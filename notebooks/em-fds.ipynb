{
 "cells": [
  {
   "cell_type": "markdown",
   "metadata": {},
   "source": [
    "### TODO\n",
    "\n",
    "- [ ] Make it work for FDS first\n",
    "- [ ] Extend to other variants\n",
    "- [ ] Extend even more\n",
    "- [ ] Docstrings"
   ]
  },
  {
   "cell_type": "markdown",
   "metadata": {},
   "source": [
    "## Module and data"
   ]
  },
  {
   "cell_type": "code",
   "execution_count": 1,
   "metadata": {},
   "outputs": [],
   "source": [
    "# Load the module for class initialization functions\n",
    "\n",
    "using ExpectationMaximization\n",
    "import ExpectationMaximization: initialize_class_assignments, m_step\n",
    "\n",
    "# Make sure that this notebook is run from the main directory\n",
    "\n",
    "endswith(pwd(), \"/notebooks\") && cd(\"..\")\n",
    "PROJECT_PATH = pwd()\n",
    "\n",
    "include(\"$PROJECT_PATH/src/load_datasets.jl\")\n",
    "\n",
    "dataset = load_rte();\n",
    "\n",
    "# [questions x one-hot classes]\n",
    "class_assignments = initialize_class_assignments(FDS(), dataset.crowd_counts);\n",
    "\n",
    "# [questionx x annotators x classes]\n",
    "counts = dataset.crowd_counts;"
   ]
  },
  {
   "cell_type": "markdown",
   "metadata": {},
   "source": [
    "## Model and utils"
   ]
  },
  {
   "cell_type": "code",
   "execution_count": 43,
   "metadata": {},
   "outputs": [
    {
     "data": {
      "text/plain": [
       "init_param"
      ]
     },
     "execution_count": 43,
     "metadata": {},
     "output_type": "execute_result"
    }
   ],
   "source": [
    "using Distributions\n",
    "# using Documenter\n",
    "using FillArrays\n",
    "using Turing\n",
    "\n",
    "@model function em_fds(counts, param)\n",
    "    # Dims\n",
    "    n_questions, n_annotators, n_classes = size(counts)\n",
    "    # Parameters ( class_marginals ≈ prior )\n",
    "    class_marginals, error_rates = param\n",
    "    # Class assignments (initialized by `initialize_class_assignments`)\n",
    "    class_assignments = Categorical(w)\n",
    "    # Model counts with params (eq 1 and 2)\n",
    "\n",
    "    for q in 1:n_questions\n",
    "        for c in 1:n_classes\n",
    "            class_assignments[q, c] ~ \n",
    "        end\n",
    "    end\n",
    "end\n",
    "\n",
    "\"\"\"\n",
    "class_marginals - [questions] (eq. 4)\n",
    "    (Number of questions having an answer as \\$c\\$) / (Total number of questions)\n",
    "error_rates - [questions x choices x choices] (probability distribution over true choices (dim 3) given assigned choices (dim 2)) (eq. 3)\n",
    "    \\$ P(c_a | Y_q = c) = \\frac{|T^{(c)}_{c_a}|}{|S^{(c)}_a|} \\$\n",
    "\"\"\"\n",
    "function init_param(counts)::Tuple{AbstractArray{<:Real, 2}, AbstractArray{<:Real, 3}}\n",
    "    class_marginals, error_rates = m_step(FDS(), counts, initialize_class_assignments(FDS(), counts))\n",
    "    param = class_marginals, error_rates\n",
    "    return param\n",
    "end\n",
    "\n",
    "# function get_latent(chain; keep_pct=.5, use_every=10)\n",
    "#     chain.value.data. #...?\n",
    "# end"
   ]
  },
  {
   "cell_type": "code",
   "execution_count": 44,
   "metadata": {},
   "outputs": [
    {
     "data": {
      "text/plain": [
       "(164, 2, 2)"
      ]
     },
     "execution_count": 44,
     "metadata": {},
     "output_type": "execute_result"
    }
   ],
   "source": [
    "size(error_rates)"
   ]
  },
  {
   "cell_type": "code",
   "execution_count": 47,
   "metadata": {},
   "outputs": [
    {
     "data": {
      "text/plain": [
       "2×2 Matrix{Float64}:\n",
       " 0.958333  0.0416667\n",
       " 0.1875    0.8125"
      ]
     },
     "execution_count": 47,
     "metadata": {},
     "output_type": "execute_result"
    }
   ],
   "source": [
    "error_rates[1, :, :]"
   ]
  },
  {
   "cell_type": "code",
   "execution_count": 26,
   "metadata": {},
   "outputs": [
    {
     "data": {
      "text/plain": [
       "164×2×2 Array{Float64, 3}:\n",
       "[:, :, 1] =\n",
       " 0.958333  0.1875\n",
       " 0.794872  0.0913978\n",
       " 0.75      0.125\n",
       " 0.84      0.0384615\n",
       " 0.75      0.125\n",
       " 0.73262   0.490798\n",
       " 0.923077  0.145833\n",
       " 0.778547  0.729084\n",
       " 0.840376  0.78877\n",
       " 0.78607   0.748603\n",
       " 0.822222  0.0571429\n",
       " 0.636364  0.0212766\n",
       " 0.444444  0.0\n",
       " ⋮         \n",
       " 1.0       0.125\n",
       " 0.916667  0.0\n",
       " 0.833333  0.0\n",
       " 1.0       0.625\n",
       " 0.916667  0.0\n",
       " 1.0       0.0714286\n",
       " 1.0       0.142857\n",
       " 0.727273  0.0\n",
       " 0.727273  0.0\n",
       " 0.952381  0.0526316\n",
       " 1.0       0.1\n",
       " 0.9       0.1\n",
       "\n",
       "[:, :, 2] =\n",
       " 0.0416667  0.8125\n",
       " 0.205128   0.908602\n",
       " 0.25       0.875\n",
       " 0.16       0.961538\n",
       " 0.25       0.875\n",
       " 0.26738    0.509202\n",
       " 0.0769231  0.854167\n",
       " 0.221453   0.270916\n",
       " 0.159624   0.21123\n",
       " 0.21393    0.251397\n",
       " 0.177778   0.942857\n",
       " 0.363636   0.978723\n",
       " 0.555556   1.0\n",
       " ⋮          \n",
       " 0.0        0.875\n",
       " 0.0833333  1.0\n",
       " 0.166667   1.0\n",
       " 0.0        0.375\n",
       " 0.0833333  1.0\n",
       " 0.0        0.928571\n",
       " 0.0        0.857143\n",
       " 0.272727   1.0\n",
       " 0.272727   1.0\n",
       " 0.047619   0.947368\n",
       " 0.0        0.9\n",
       " 0.1        0.9"
      ]
     },
     "execution_count": 26,
     "metadata": {},
     "output_type": "execute_result"
    }
   ],
   "source": [
    "class_marginals, error_rates = init_param(counts)\n",
    "error_rates"
   ]
  },
  {
   "cell_type": "code",
   "execution_count": null,
   "metadata": {},
   "outputs": [],
   "source": [
    "using Optim\n",
    "using ProgressMeter\n",
    "\n",
    "# (Hyper)params\n",
    "\n",
    "Random.seed!(42)\n",
    "\n",
    "num_particles = 100\n",
    "num_samples = 100\n",
    "num_iterations = 4\n",
    "sampler = PG(num_particles)\n",
    "\n",
    "class_assignments = initialize_class_assignments(FDS, dataset.crowd_counts)\n",
    "trace = (chn=[], opt=[])\n",
    "\n",
    "@showprogress for i in 1:num_iterations\n",
    "    # E-step\n",
    "    chn = sample(em_fds(x, class_assignments), sampler, num_samples; progress=false)\n",
    "    push!(trace.chn, chn)\n",
    "\n",
    "    # M-step\n",
    "    opt = optimize(make_obj(get_latent(chn)), param)\n",
    "    push!(trace.opt, opt)\n",
    "\n",
    "    param = opt.minimizer\n",
    "    \n",
    "    println(\"Iteration $i\")\n",
    "    display(param)\n",
    "    println()\n",
    "end"
   ]
  }
 ],
 "metadata": {
  "kernelspec": {
   "display_name": "Julia 1.7.3",
   "language": "julia",
   "name": "julia-1.7"
  },
  "language_info": {
   "file_extension": ".jl",
   "mimetype": "application/julia",
   "name": "julia",
   "version": "1.7.3"
  },
  "orig_nbformat": 4,
  "vscode": {
   "interpreter": {
    "hash": "916dbcbb3f70747c44a77c7bcd40155683ae19c65e1c03b4aa3499c5328201f1"
   }
  }
 },
 "nbformat": 4,
 "nbformat_minor": 2
}
