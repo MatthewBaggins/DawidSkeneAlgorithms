{
 "cells": [
  {
   "cell_type": "markdown",
   "metadata": {},
   "source": [
    "## Module and data"
   ]
  },
  {
   "cell_type": "code",
   "execution_count": 1,
   "metadata": {},
   "outputs": [],
   "source": [
    "# Load the module for class initialization functions\n",
    "\n",
    "using ExpectationMaximization\n",
    "import ExpectationMaximization: initialize_class_assignments, m_step\n",
    "\n",
    "# Make sure that this notebook is run from the main directory\n",
    "\n",
    "endswith(pwd(), \"/notebooks\") && cd(\"..\")\n",
    "PROJECT_PATH = pwd()\n",
    "\n",
    "include(\"$PROJECT_PATH/src/load_datasets.jl\")\n",
    "\n",
    "dataset = load_rte();\n",
    "\n",
    "# [question x annotators x classes]\n",
    "counts = dataset.crowd_counts\n",
    "\n",
    ";"
   ]
  },
  {
   "cell_type": "code",
   "execution_count": 2,
   "metadata": {},
   "outputs": [],
   "source": [
    "using LinearAlgebra: normalize\n",
    "\n",
    "\"\"\"\n",
    "Initialize parameters.\n",
    "Reuses `m_step` and `initialize_class_assignments` defined for the manual implemention of the algorithm.\n",
    "\"\"\"\n",
    "function init_param(counts)\n",
    "    class_marginals, error_rates = m_step(FDS(), counts, initialize_class_assignments(FDS(), counts))\n",
    "    return normalize(class_marginals[:], 1)\n",
    "end\n",
    "\n",
    "third(x) = x[3]\n",
    "\n",
    "\"\"\"\n",
    "Element-wise multiplication in order to remove annotators that didn't answer the question.\n",
    "\"\"\"\n",
    "function onehot_choices_to_categorical(x::Array{<:Real, 3})::Matrix{Int}\n",
    "    third.(argmax(x; dims=3)[:, :, 1]) .* maximum(x; dims=3)[:, :, 1]\n",
    "end\n",
    "\n",
    "Q, A, O = size(counts) # questions, answers, options\n",
    "choices = onehot_choices_to_categorical(counts)\n",
    "class_marginals = init_param(counts)\n",
    "\n",
    ";"
   ]
  },
  {
   "cell_type": "code",
   "execution_count": 3,
   "metadata": {},
   "outputs": [
    {
     "data": {
      "text/plain": [
       "em_fds (generic function with 2 methods)"
      ]
     },
     "execution_count": 3,
     "metadata": {},
     "output_type": "execute_result"
    }
   ],
   "source": [
    "using Distributions\n",
    "using LogExpFunctions\n",
    "using IterTools\n",
    "using Turing\n",
    "\n",
    "\n",
    "isnanbool(x) = isnan(x) === true\n",
    "hasnans(x::AbstractArray) = any(isnanbool.(x))\n",
    "\n",
    "@model function em_fds(\n",
    "    choices::Matrix{Int}, # [Q x A]\n",
    "    unnormalized_class_marginals::Vector{<:Real} # [O] (probability vector)\n",
    ")\n",
    "    # Get dimensions\n",
    "    Q, A = size(choices) # questions, answers\n",
    "    O = length(unnormalized_class_marginals) # options\n",
    "\n",
    "    # eq (4)\n",
    "    normalized_class_marginals = softmax(unnormalized_class_marginals)\n",
    "    p_Y = Categorical(normalized_class_marginals)\n",
    "    \n",
    "    # sample answer sheet\n",
    "    Ys ~ filldist(p_Y, Q)\n",
    "\n",
    "    # eq (3)\n",
    "\n",
    "    # [A x O]\n",
    "    S = map(product(1:A, 1:O)) do (a, o)\n",
    "        length([q for q in 1:Q \n",
    "                  if Ys[q] == o\n",
    "                  && choices[q, a] ≠ 0])\n",
    "    end\n",
    "\n",
    "    # [A x O x O]\n",
    "    T = map(product(1:A, 1:O, 1:O)) do (a, o_true, o_answered)\n",
    "        length([q for q in 1:Q\n",
    "                if Ys[q] == o_true \n",
    "                && choices[q, a] == o_answered])\n",
    "    end\n",
    "\n",
    "    #=\n",
    "    When `NaN`s occur in `error_rates`, they are arranged along the third dimension,\n",
    "    which is sampled as a probability vector.\n",
    "    The minimum risk way of dealing with this is to replace such cases with\n",
    "    priors/`normalized_class_marginals`.\n",
    "    =#\n",
    "    error_rates = T ./ S\n",
    "    for a in 1:A, o in 1:O\n",
    "        if hasnans(error_rates[a, o, :])\n",
    "            error_rates[a, o, :] = normalized_class_marginals\n",
    "        end\n",
    "    end\n",
    "    \n",
    "    if hasnans(error_rates)\n",
    "        @show Ys\n",
    "        @show S\n",
    "        @show T\n",
    "        @show error_rates\n",
    "    end\n",
    "\n",
    "    #TODO: try moving it into the loop, maybe avoids lines or add an if inside line 62 \n",
    "    p_c_given_Y = [hasnans(error_rates[a, o, :]) ? nothing : Categorical(error_rates[a, o, :]) for a in 1:A, o in 1:O]\n",
    "    for q in 1:Q, a in 1:A\n",
    "        choices[q, a] == 0 && continue\n",
    "        choices[q, a] ~ p_c_given_Y[a, Ys[q]]\n",
    "    end\n",
    "end\n"
   ]
  },
  {
   "cell_type": "code",
   "execution_count": 4,
   "metadata": {},
   "outputs": [
    {
     "data": {
      "text/plain": [
       "make_obj (generic function with 1 method)"
      ]
     },
     "execution_count": 4,
     "metadata": {},
     "output_type": "execute_result"
    }
   ],
   "source": [
    "function get_latent(chn; keep_pct=.5, use_every=1)\n",
    "    # [latent_dim, num_samples]\n",
    "    chn.value.data[floor(Int, keep_pct * end) : use_every : end, 1:800] |> Matrix{Int} |> transpose\n",
    "end\n",
    "\n",
    "function make_obj(latent)\n",
    "    function obj(unnormalized_class_marginals)\n",
    "        normalized_class_marginals = normalize(unnormalized_class_marginals, 1)\n",
    "        return -mean([\n",
    "            logjoint(em_fds(choices, normalized_class_marginals), (; Ys=Ys))\n",
    "            for Ys in eachcol(latent)\n",
    "            ])\n",
    "    end\n",
    "end"
   ]
  },
  {
   "cell_type": "code",
   "execution_count": null,
   "metadata": {},
   "outputs": [],
   "source": [
    "using JLD\n",
    "trace = load(\"./trace.jld\")[\"trace\"]\n",
    ";"
   ]
  },
  {
   "cell_type": "code",
   "execution_count": 15,
   "metadata": {},
   "outputs": [
    {
     "name": "stdout",
     "output_type": "stream",
     "text": [
      "1: 5391.278441166886 | -4841.762855346546\n",
      "2: 5401.081607980987 | -4850.669073149292\n"
     ]
    },
    {
     "name": "stderr",
     "output_type": "stream",
     "text": [
      "\u001b[32mProgress:  30%|████████████▎                            |  ETA: 0:40:42\u001b[39m"
     ]
    },
    {
     "name": "stdout",
     "output_type": "stream",
     "text": [
      "3: 5392.391406635477 | -4844.609123456079\n"
     ]
    },
    {
     "name": "stderr",
     "output_type": "stream",
     "text": [
      "\u001b[32mProgress:  40%|████████████████▍                        |  ETA: 0:34:19\u001b[39m"
     ]
    },
    {
     "name": "stdout",
     "output_type": "stream",
     "text": [
      "4: 5390.231063276086 | -4838.213193128126\n"
     ]
    },
    {
     "name": "stderr",
     "output_type": "stream",
     "text": [
      "\u001b[32mProgress:  50%|████████████████████▌                    |  ETA: 0:27:50\u001b[39m"
     ]
    },
    {
     "name": "stdout",
     "output_type": "stream",
     "text": [
      "5: 5394.213104060603 | -4847.504800422126\n"
     ]
    },
    {
     "name": "stderr",
     "output_type": "stream",
     "text": [
      "\u001b[32mProgress:  60%|████████████████████████▋                |  ETA: 0:22:10\u001b[39m"
     ]
    },
    {
     "name": "stdout",
     "output_type": "stream",
     "text": [
      "6: 5386.164890838642 | -4830.3463431728005\n"
     ]
    },
    {
     "name": "stderr",
     "output_type": "stream",
     "text": [
      "\u001b[32mProgress:  70%|████████████████████████████▊            |  ETA: 0:16:19\u001b[39m"
     ]
    },
    {
     "name": "stdout",
     "output_type": "stream",
     "text": [
      "7: 5372.201448221067 | -4833.086603139959\n"
     ]
    },
    {
     "name": "stderr",
     "output_type": "stream",
     "text": [
      "\u001b[32mProgress:  80%|████████████████████████████████▊        |  ETA: 0:10:48\u001b[39m"
     ]
    },
    {
     "name": "stdout",
     "output_type": "stream",
     "text": [
      "8: 5373.958371991393 | -4847.871697925949\n"
     ]
    },
    {
     "name": "stderr",
     "output_type": "stream",
     "text": [
      "\u001b[32mProgress:  90%|████████████████████████████████████▉    |  ETA: 0:05:20\u001b[39m"
     ]
    },
    {
     "name": "stdout",
     "output_type": "stream",
     "text": [
      "9: 5182.5886704143695 | -4834.860501036534\n"
     ]
    },
    {
     "name": "stderr",
     "output_type": "stream",
     "text": [
      "\u001b[32mProgress: 100%|█████████████████████████████████████████| Time: 0:52:22\u001b[39m\n"
     ]
    },
    {
     "name": "stdout",
     "output_type": "stream",
     "text": [
      "10: 5188.563500000966 | -4936.822223602552\n",
      "Saved as ./trace_2022-09-19T19:37:32.jld\n"
     ]
    }
   ],
   "source": [
    "using Random\n",
    "using ProgressMeter\n",
    "using Optim\n",
    "\n",
    "Random.seed!(42)\n",
    "\n",
    "num_particles = 20\n",
    "num_samples = 20\n",
    "num_iterations = 10\n",
    "sampler = PG(num_particles)\n",
    "\n",
    "# class_marginals = init_param(counts)\n",
    "# trace = (chn=[], opt=[])\n",
    "\n",
    "@showprogress for i in 1:num_iterations\n",
    "    # E-step\n",
    "    chn = sample(em_fds(choices, class_marginals), sampler, num_samples; progress=false)\n",
    "    push!(trace.chn, chn)\n",
    "    \n",
    "    # M-step\n",
    "    opt = optimize(make_obj(get_latent(chn)), class_marginals)\n",
    "    push!(trace.opt, opt)\n",
    "    class_marginals = opt.minimizer\n",
    "\n",
    "    # Report\n",
    "    @show i\n",
    "    @show opt.minimum\n",
    "    @show chn.logevidence\n",
    "    flush(stdout)\n",
    "    display(param)\n",
    "end\n",
    "\n",
    "using Dates\n",
    "using JLD\n",
    "savename = \"./trace_$(split(string(now()), '.')[1]).jld\"\n",
    "save(savename, \"trace\", trace)\n",
    "println(\"Saved as $savename\")"
   ]
  },
  {
   "cell_type": "code",
   "execution_count": 7,
   "metadata": {},
   "outputs": [
    {
     "name": "stderr",
     "output_type": "stream",
     "text": [
      "\u001b[32mSampling: 100%|█████████████████████████████████████████| Time: 0:04:11\u001b[39m\n"
     ]
    },
    {
     "data": {
      "text/plain": [
       "Chains MCMC chain (20×802×1 Array{Float64, 3}):\n",
       "\n",
       "Log evidence      = -4833.658211674445\n",
       "Iterations        = 1:1:20\n",
       "Number of chains  = 1\n",
       "Samples per chain = 20\n",
       "Wall duration     = 273.03 seconds\n",
       "Compute duration  = 273.03 seconds\n",
       "parameters        = Ys[1], Ys[2], Ys[3], Ys[4], Ys[5], Ys[6], Ys[7], Ys[8], Ys[9], Ys[10], Ys[11], Ys[12], Ys[13], Ys[14], Ys[15], Ys[16], Ys[17], Ys[18], Ys[19], Ys[20], Ys[21], Ys[22], Ys[23], Ys[24], Ys[25], Ys[26], Ys[27], Ys[28], Ys[29], Ys[30], Ys[31], Ys[32], Ys[33], Ys[34], Ys[35], Ys[36], Ys[37], Ys[38], Ys[39], Ys[40], Ys[41], Ys[42], Ys[43], Ys[44], Ys[45], Ys[46], Ys[47], Ys[48], Ys[49], Ys[50], Ys[51], Ys[52], Ys[53], Ys[54], Ys[55], Ys[56], Ys[57], Ys[58], Ys[59], Ys[60], Ys[61], Ys[62], Ys[63], Ys[64], Ys[65], Ys[66], Ys[67], Ys[68], Ys[69], Ys[70], Ys[71], Ys[72], Ys[73], Ys[74], Ys[75], Ys[76], Ys[77], Ys[78], Ys[79], Ys[80], Ys[81], Ys[82], Ys[83], Ys[84], Ys[85], Ys[86], Ys[87], Ys[88], Ys[89], Ys[90], Ys[91], Ys[92], Ys[93], Ys[94], Ys[95], Ys[96], Ys[97], Ys[98], Ys[99], Ys[100], Ys[101], Ys[102], Ys[103], Ys[104], Ys[105], Ys[106], Ys[107], Ys[108], Ys[109], Ys[110], Ys[111], Ys[112], Ys[113], Ys[114], Ys[115], Ys[116], Ys[117], Ys[118], Ys[119], Ys[120], Ys[121], Ys[122], Ys[123], Ys[124], Ys[125], Ys[126], Ys[127], Ys[128], Ys[129], Ys[130], Ys[131], Ys[132], Ys[133], Ys[134], Ys[135], Ys[136], Ys[137], Ys[138], Ys[139], Ys[140], Ys[141], Ys[142], Ys[143], Ys[144], Ys[145], Ys[146], Ys[147], Ys[148], Ys[149], Ys[150], Ys[151], Ys[152], Ys[153], Ys[154], Ys[155], Ys[156], Ys[157], Ys[158], Ys[159], Ys[160], Ys[161], Ys[162], Ys[163], Ys[164], Ys[165], Ys[166], Ys[167], Ys[168], Ys[169], Ys[170], Ys[171], Ys[172], Ys[173], Ys[174], Ys[175], Ys[176], Ys[177], Ys[178], Ys[179], Ys[180], Ys[181], Ys[182], Ys[183], Ys[184], Ys[185], Ys[186], Ys[187], Ys[188], Ys[189], Ys[190], Ys[191], Ys[192], Ys[193], Ys[194], Ys[195], Ys[196], Ys[197], Ys[198], Ys[199], Ys[200], Ys[201], Ys[202], Ys[203], Ys[204], Ys[205], Ys[206], Ys[207], Ys[208], Ys[209], Ys[210], Ys[211], Ys[212], Ys[213], Ys[214], Ys[215], Ys[216], Ys[217], Ys[218], Ys[219], Ys[220], Ys[221], Ys[222], Ys[223], Ys[224], Ys[225], Ys[226], Ys[227], Ys[228], Ys[229], Ys[230], Ys[231], Ys[232], Ys[233], Ys[234], Ys[235], Ys[236], Ys[237], Ys[238], Ys[239], Ys[240], Ys[241], Ys[242], Ys[243], Ys[244], Ys[245], Ys[246], Ys[247], Ys[248], Ys[249], Ys[250], Ys[251], Ys[252], Ys[253], Ys[254], Ys[255], Ys[256], Ys[257], Ys[258], Ys[259], Ys[260], Ys[261], Ys[262], Ys[263], Ys[264], Ys[265], Ys[266], Ys[267], Ys[268], Ys[269], Ys[270], Ys[271], Ys[272], Ys[273], Ys[274], Ys[275], Ys[276], Ys[277], Ys[278], Ys[279], Ys[280], Ys[281], Ys[282], Ys[283], Ys[284], Ys[285], Ys[286], Ys[287], Ys[288], Ys[289], Ys[290], Ys[291], Ys[292], Ys[293], Ys[294], Ys[295], Ys[296], Ys[297], Ys[298], Ys[299], Ys[300], Ys[301], Ys[302], Ys[303], Ys[304], Ys[305], Ys[306], Ys[307], Ys[308], Ys[309], Ys[310], Ys[311], Ys[312], Ys[313], Ys[314], Ys[315], Ys[316], Ys[317], Ys[318], Ys[319], Ys[320], Ys[321], Ys[322], Ys[323], Ys[324], Ys[325], Ys[326], Ys[327], Ys[328], Ys[329], Ys[330], Ys[331], Ys[332], Ys[333], Ys[334], Ys[335], Ys[336], Ys[337], Ys[338], Ys[339], Ys[340], Ys[341], Ys[342], Ys[343], Ys[344], Ys[345], Ys[346], Ys[347], Ys[348], Ys[349], Ys[350], Ys[351], Ys[352], Ys[353], Ys[354], Ys[355], Ys[356], Ys[357], Ys[358], Ys[359], Ys[360], Ys[361], Ys[362], Ys[363], Ys[364], Ys[365], Ys[366], Ys[367], Ys[368], Ys[369], Ys[370], Ys[371], Ys[372], Ys[373], Ys[374], Ys[375], Ys[376], Ys[377], Ys[378], Ys[379], Ys[380], Ys[381], Ys[382], Ys[383], Ys[384], Ys[385], Ys[386], Ys[387], Ys[388], Ys[389], Ys[390], Ys[391], Ys[392], Ys[393], Ys[394], Ys[395], Ys[396], Ys[397], Ys[398], Ys[399], Ys[400], Ys[401], Ys[402], Ys[403], Ys[404], Ys[405], Ys[406], Ys[407], Ys[408], Ys[409], Ys[410], Ys[411], Ys[412], Ys[413], Ys[414], Ys[415], Ys[416], Ys[417], Ys[418], Ys[419], Ys[420], Ys[421], Ys[422], Ys[423], Ys[424], Ys[425], Ys[426], Ys[427], Ys[428], Ys[429], Ys[430], Ys[431], Ys[432], Ys[433], Ys[434], Ys[435], Ys[436], Ys[437], Ys[438], Ys[439], Ys[440], Ys[441], Ys[442], Ys[443], Ys[444], Ys[445], Ys[446], Ys[447], Ys[448], Ys[449], Ys[450], Ys[451], Ys[452], Ys[453], Ys[454], Ys[455], Ys[456], Ys[457], Ys[458], Ys[459], Ys[460], Ys[461], Ys[462], Ys[463], Ys[464], Ys[465], Ys[466], Ys[467], Ys[468], Ys[469], Ys[470], Ys[471], Ys[472], Ys[473], Ys[474], Ys[475], Ys[476], Ys[477], Ys[478], Ys[479], Ys[480], Ys[481], Ys[482], Ys[483], Ys[484], Ys[485], Ys[486], Ys[487], Ys[488], Ys[489], Ys[490], Ys[491], Ys[492], Ys[493], Ys[494], Ys[495], Ys[496], Ys[497], Ys[498], Ys[499], Ys[500], Ys[501], Ys[502], Ys[503], Ys[504], Ys[505], Ys[506], Ys[507], Ys[508], Ys[509], Ys[510], Ys[511], Ys[512], Ys[513], Ys[514], Ys[515], Ys[516], Ys[517], Ys[518], Ys[519], Ys[520], Ys[521], Ys[522], Ys[523], Ys[524], Ys[525], Ys[526], Ys[527], Ys[528], Ys[529], Ys[530], Ys[531], Ys[532], Ys[533], Ys[534], Ys[535], Ys[536], Ys[537], Ys[538], Ys[539], Ys[540], Ys[541], Ys[542], Ys[543], Ys[544], Ys[545], Ys[546], Ys[547], Ys[548], Ys[549], Ys[550], Ys[551], Ys[552], Ys[553], Ys[554], Ys[555], Ys[556], Ys[557], Ys[558], Ys[559], Ys[560], Ys[561], Ys[562], Ys[563], Ys[564], Ys[565], Ys[566], Ys[567], Ys[568], Ys[569], Ys[570], Ys[571], Ys[572], Ys[573], Ys[574], Ys[575], Ys[576], Ys[577], Ys[578], Ys[579], Ys[580], Ys[581], Ys[582], Ys[583], Ys[584], Ys[585], Ys[586], Ys[587], Ys[588], Ys[589], Ys[590], Ys[591], Ys[592], Ys[593], Ys[594], Ys[595], Ys[596], Ys[597], Ys[598], Ys[599], Ys[600], Ys[601], Ys[602], Ys[603], Ys[604], Ys[605], Ys[606], Ys[607], Ys[608], Ys[609], Ys[610], Ys[611], Ys[612], Ys[613], Ys[614], Ys[615], Ys[616], Ys[617], Ys[618], Ys[619], Ys[620], Ys[621], Ys[622], Ys[623], Ys[624], Ys[625], Ys[626], Ys[627], Ys[628], Ys[629], Ys[630], Ys[631], Ys[632], Ys[633], Ys[634], Ys[635], Ys[636], Ys[637], Ys[638], Ys[639], Ys[640], Ys[641], Ys[642], Ys[643], Ys[644], Ys[645], Ys[646], Ys[647], Ys[648], Ys[649], Ys[650], Ys[651], Ys[652], Ys[653], Ys[654], Ys[655], Ys[656], Ys[657], Ys[658], Ys[659], Ys[660], Ys[661], Ys[662], Ys[663], Ys[664], Ys[665], Ys[666], Ys[667], Ys[668], Ys[669], Ys[670], Ys[671], Ys[672], Ys[673], Ys[674], Ys[675], Ys[676], Ys[677], Ys[678], Ys[679], Ys[680], Ys[681], Ys[682], Ys[683], Ys[684], Ys[685], Ys[686], Ys[687], Ys[688], Ys[689], Ys[690], Ys[691], Ys[692], Ys[693], Ys[694], Ys[695], Ys[696], Ys[697], Ys[698], Ys[699], Ys[700], Ys[701], Ys[702], Ys[703], Ys[704], Ys[705], Ys[706], Ys[707], Ys[708], Ys[709], Ys[710], Ys[711], Ys[712], Ys[713], Ys[714], Ys[715], Ys[716], Ys[717], Ys[718], Ys[719], Ys[720], Ys[721], Ys[722], Ys[723], Ys[724], Ys[725], Ys[726], Ys[727], Ys[728], Ys[729], Ys[730], Ys[731], Ys[732], Ys[733], Ys[734], Ys[735], Ys[736], Ys[737], Ys[738], Ys[739], Ys[740], Ys[741], Ys[742], Ys[743], Ys[744], Ys[745], Ys[746], Ys[747], Ys[748], Ys[749], Ys[750], Ys[751], Ys[752], Ys[753], Ys[754], Ys[755], Ys[756], Ys[757], Ys[758], Ys[759], Ys[760], Ys[761], Ys[762], Ys[763], Ys[764], Ys[765], Ys[766], Ys[767], Ys[768], Ys[769], Ys[770], Ys[771], Ys[772], Ys[773], Ys[774], Ys[775], Ys[776], Ys[777], Ys[778], Ys[779], Ys[780], Ys[781], Ys[782], Ys[783], Ys[784], Ys[785], Ys[786], Ys[787], Ys[788], Ys[789], Ys[790], Ys[791], Ys[792], Ys[793], Ys[794], Ys[795], Ys[796], Ys[797], Ys[798], Ys[799], Ys[800]\n",
       "internals         = lp, logevidence\n",
       "\n",
       "Summary Statistics\n",
       " \u001b[1m parameters \u001b[0m \u001b[1m    mean \u001b[0m \u001b[1m     std \u001b[0m \u001b[1m naive_se \u001b[0m \u001b[1m    mcse \u001b[0m \u001b[1m     ess \u001b[0m \u001b[1m    rhat \u001b[0m \u001b[1m es\u001b[0m ⋯\n",
       " \u001b[90m     Symbol \u001b[0m \u001b[90m Float64 \u001b[0m \u001b[90m Float64 \u001b[0m \u001b[90m  Float64 \u001b[0m \u001b[90m Float64 \u001b[0m \u001b[90m Float64 \u001b[0m \u001b[90m Float64 \u001b[0m \u001b[90m   \u001b[0m ⋯\n",
       "\n",
       "       Ys[1]    1.5000    0.5130     0.1147    0.2092    5.6678    1.1148      ⋯\n",
       "       Ys[2]    1.0000    0.0000     0.0000    0.0000       NaN       NaN      ⋯\n",
       "       Ys[3]    1.3500    0.4894     0.1094    0.2179    1.6006    1.7321      ⋯\n",
       "       Ys[4]    1.5000    0.5130     0.1147    0.2092    5.6678    1.1148      ⋯\n",
       "       Ys[5]    1.6500    0.4894     0.1094    0.2179    1.6006    1.7321      ⋯\n",
       "       Ys[6]    1.5000    0.5130     0.1147    0.2092    5.6678    1.1148      ⋯\n",
       "       Ys[7]    1.3500    0.4894     0.1094    0.2179    1.6006    1.7321      ⋯\n",
       "       Ys[8]    1.8500    0.3663     0.0819    0.1500    5.2326    1.1339      ⋯\n",
       "       Ys[9]    1.0000    0.0000     0.0000    0.0000       NaN       NaN      ⋯\n",
       "      Ys[10]    1.5500    0.5104     0.1141    0.2000    3.3057    1.2281      ⋯\n",
       "      Ys[11]    1.1000    0.3078     0.0688    0.1000   10.8434    1.0607      ⋯\n",
       "      Ys[12]    1.0500    0.2236     0.0500    0.0500   20.4545    1.0000      ⋯\n",
       "      Ys[13]    1.9500    0.2236     0.0500    0.0500   20.4545    1.0000      ⋯\n",
       "      Ys[14]    1.0000    0.0000     0.0000    0.0000       NaN       NaN      ⋯\n",
       "      Ys[15]    1.0500    0.2236     0.0500    0.0500   20.4545    1.0000      ⋯\n",
       "      Ys[16]    1.4500    0.5104     0.1141    0.2000    3.3057    1.2281      ⋯\n",
       "      Ys[17]    1.5000    0.5130     0.1147    0.2092    5.6678    1.1148      ⋯\n",
       "      Ys[18]    1.4500    0.5104     0.1141    0.2000    3.3057    1.2281      ⋯\n",
       "      Ys[19]    1.0500    0.2236     0.0500    0.0500   20.4545    1.0000      ⋯\n",
       "      Ys[20]    1.8500    0.3663     0.0819    0.1500    5.2326    1.1339      ⋯\n",
       "      Ys[21]    1.0500    0.2236     0.0500    0.0500   20.4545    1.0000      ⋯\n",
       "      Ys[22]    1.0500    0.2236     0.0500    0.0500   20.4545    1.0000      ⋯\n",
       "      Ys[23]    1.0000    0.0000     0.0000    0.0000       NaN       NaN      ⋯\n",
       "      ⋮           ⋮         ⋮         ⋮          ⋮         ⋮         ⋮         ⋱\n",
       "\u001b[36m                                                   1 column and 777 rows omitted\u001b[0m\n",
       "\n",
       "Quantiles\n",
       " \u001b[1m parameters \u001b[0m \u001b[1m    2.5% \u001b[0m \u001b[1m   25.0% \u001b[0m \u001b[1m   50.0% \u001b[0m \u001b[1m   75.0% \u001b[0m \u001b[1m   97.5% \u001b[0m\n",
       " \u001b[90m     Symbol \u001b[0m \u001b[90m Float64 \u001b[0m \u001b[90m Float64 \u001b[0m \u001b[90m Float64 \u001b[0m \u001b[90m Float64 \u001b[0m \u001b[90m Float64 \u001b[0m\n",
       "\n",
       "       Ys[1]    1.0000    1.0000    1.5000    2.0000    2.0000\n",
       "       Ys[2]    1.0000    1.0000    1.0000    1.0000    1.0000\n",
       "       Ys[3]    1.0000    1.0000    1.0000    2.0000    2.0000\n",
       "       Ys[4]    1.0000    1.0000    1.5000    2.0000    2.0000\n",
       "       Ys[5]    1.0000    1.0000    2.0000    2.0000    2.0000\n",
       "       Ys[6]    1.0000    1.0000    1.5000    2.0000    2.0000\n",
       "       Ys[7]    1.0000    1.0000    1.0000    2.0000    2.0000\n",
       "       Ys[8]    1.0000    2.0000    2.0000    2.0000    2.0000\n",
       "       Ys[9]    1.0000    1.0000    1.0000    1.0000    1.0000\n",
       "      Ys[10]    1.0000    1.0000    2.0000    2.0000    2.0000\n",
       "      Ys[11]    1.0000    1.0000    1.0000    1.0000    2.0000\n",
       "      Ys[12]    1.0000    1.0000    1.0000    1.0000    1.5250\n",
       "      Ys[13]    1.4750    2.0000    2.0000    2.0000    2.0000\n",
       "      Ys[14]    1.0000    1.0000    1.0000    1.0000    1.0000\n",
       "      Ys[15]    1.0000    1.0000    1.0000    1.0000    1.5250\n",
       "      Ys[16]    1.0000    1.0000    1.0000    2.0000    2.0000\n",
       "      Ys[17]    1.0000    1.0000    1.5000    2.0000    2.0000\n",
       "      Ys[18]    1.0000    1.0000    1.0000    2.0000    2.0000\n",
       "      Ys[19]    1.0000    1.0000    1.0000    1.0000    1.5250\n",
       "      Ys[20]    1.0000    2.0000    2.0000    2.0000    2.0000\n",
       "      Ys[21]    1.0000    1.0000    1.0000    1.0000    1.5250\n",
       "      Ys[22]    1.0000    1.0000    1.0000    1.0000    1.5250\n",
       "      Ys[23]    1.0000    1.0000    1.0000    1.0000    1.0000\n",
       "      ⋮           ⋮         ⋮         ⋮         ⋮         ⋮\n",
       "\u001b[36m                                                777 rows omitted\u001b[0m\n"
      ]
     },
     "execution_count": 7,
     "metadata": {},
     "output_type": "execute_result"
    }
   ],
   "source": [
    "# class_marginals = trace.opt[end].minimizer\n",
    "# chn = sample(em_fds(choices, class_marginals), sampler, num_samples)"
   ]
  },
  {
   "cell_type": "code",
   "execution_count": 20,
   "metadata": {},
   "outputs": [
    {
     "data": {
      "image/svg+xml": "<?xml version=\"1.0\" encoding=\"utf-8\"?>\n<svg xmlns=\"http://www.w3.org/2000/svg\" xmlns:xlink=\"http://www.w3.org/1999/xlink\" width=\"600\" height=\"400\" viewBox=\"0 0 2400 1600\">\n<defs>\n  <clipPath id=\"clip080\">\n    <rect x=\"0\" y=\"0\" width=\"2400\" height=\"1600\"/>\n  </clipPath>\n</defs>\n<path clip-path=\"url(#clip080)\" d=\"\nM0 1600 L2400 1600 L2400 0 L0 0  Z\n  \" fill=\"#ffffff\" fill-rule=\"evenodd\" fill-opacity=\"1\"/>\n<defs>\n  <clipPath id=\"clip081\">\n    <rect x=\"480\" y=\"0\" width=\"1681\" height=\"1600\"/>\n  </clipPath>\n</defs>\n<path clip-path=\"url(#clip080)\" d=\"\nM239.19 1486.45 L2352.76 1486.45 L2352.76 123.472 L239.19 123.472  Z\n  \" fill=\"#ffffff\" fill-rule=\"evenodd\" fill-opacity=\"1\"/>\n<defs>\n  <clipPath id=\"clip082\">\n    <rect x=\"239\" y=\"123\" width=\"2115\" height=\"1364\"/>\n  </clipPath>\n</defs>\n<polyline clip-path=\"url(#clip082)\" style=\"stroke:#000000; stroke-linecap:butt; stroke-linejoin:round; stroke-width:2; stroke-opacity:0.1; fill:none\" points=\"\n  498.401,1486.45 498.401,123.472 \n  \"/>\n<polyline clip-path=\"url(#clip082)\" style=\"stroke:#000000; stroke-linecap:butt; stroke-linejoin:round; stroke-width:2; stroke-opacity:0.1; fill:none\" points=\"\n  897.187,1486.45 897.187,123.472 \n  \"/>\n<polyline clip-path=\"url(#clip082)\" style=\"stroke:#000000; stroke-linecap:butt; stroke-linejoin:round; stroke-width:2; stroke-opacity:0.1; fill:none\" points=\"\n  1295.97,1486.45 1295.97,123.472 \n  \"/>\n<polyline clip-path=\"url(#clip082)\" style=\"stroke:#000000; stroke-linecap:butt; stroke-linejoin:round; stroke-width:2; stroke-opacity:0.1; fill:none\" points=\"\n  1694.76,1486.45 1694.76,123.472 \n  \"/>\n<polyline clip-path=\"url(#clip082)\" style=\"stroke:#000000; stroke-linecap:butt; stroke-linejoin:round; stroke-width:2; stroke-opacity:0.1; fill:none\" points=\"\n  2093.55,1486.45 2093.55,123.472 \n  \"/>\n<polyline clip-path=\"url(#clip080)\" style=\"stroke:#000000; stroke-linecap:butt; stroke-linejoin:round; stroke-width:4; stroke-opacity:1; fill:none\" points=\"\n  239.19,1486.45 2352.76,1486.45 \n  \"/>\n<polyline clip-path=\"url(#clip080)\" style=\"stroke:#000000; stroke-linecap:butt; stroke-linejoin:round; stroke-width:4; stroke-opacity:1; fill:none\" points=\"\n  498.401,1486.45 498.401,1467.55 \n  \"/>\n<polyline clip-path=\"url(#clip080)\" style=\"stroke:#000000; stroke-linecap:butt; stroke-linejoin:round; stroke-width:4; stroke-opacity:1; fill:none\" points=\"\n  897.187,1486.45 897.187,1467.55 \n  \"/>\n<polyline clip-path=\"url(#clip080)\" style=\"stroke:#000000; stroke-linecap:butt; stroke-linejoin:round; stroke-width:4; stroke-opacity:1; fill:none\" points=\"\n  1295.97,1486.45 1295.97,1467.55 \n  \"/>\n<polyline clip-path=\"url(#clip080)\" style=\"stroke:#000000; stroke-linecap:butt; stroke-linejoin:round; stroke-width:4; stroke-opacity:1; fill:none\" points=\"\n  1694.76,1486.45 1694.76,1467.55 \n  \"/>\n<polyline clip-path=\"url(#clip080)\" style=\"stroke:#000000; stroke-linecap:butt; stroke-linejoin:round; stroke-width:4; stroke-opacity:1; fill:none\" points=\"\n  2093.55,1486.45 2093.55,1467.55 \n  \"/>\n<path clip-path=\"url(#clip080)\" d=\"M493.054 1544.91 L509.373 1544.91 L509.373 1548.85 L487.429 1548.85 L487.429 1544.91 Q490.091 1542.16 494.674 1537.53 Q499.281 1532.88 500.461 1531.53 Q502.707 1529.01 503.586 1527.27 Q504.489 1525.51 504.489 1523.82 Q504.489 1521.07 502.545 1519.33 Q500.623 1517.6 497.522 1517.6 Q495.323 1517.6 492.869 1518.36 Q490.438 1519.13 487.661 1520.68 L487.661 1515.95 Q490.485 1514.82 492.938 1514.24 Q495.392 1513.66 497.429 1513.66 Q502.799 1513.66 505.994 1516.35 Q509.188 1519.03 509.188 1523.52 Q509.188 1525.65 508.378 1527.57 Q507.591 1529.47 505.485 1532.07 Q504.906 1532.74 501.804 1535.95 Q498.702 1539.15 493.054 1544.91 Z\" fill=\"#000000\" fill-rule=\"evenodd\" fill-opacity=\"1\" /><path clip-path=\"url(#clip080)\" d=\"M900.196 1518.36 L888.391 1536.81 L900.196 1536.81 L900.196 1518.36 M898.97 1514.29 L904.849 1514.29 L904.849 1536.81 L909.78 1536.81 L909.78 1540.7 L904.849 1540.7 L904.849 1548.85 L900.196 1548.85 L900.196 1540.7 L884.595 1540.7 L884.595 1536.19 L898.97 1514.29 Z\" fill=\"#000000\" fill-rule=\"evenodd\" fill-opacity=\"1\" /><path clip-path=\"url(#clip080)\" d=\"M1296.38 1529.7 Q1293.23 1529.7 1291.38 1531.86 Q1289.55 1534.01 1289.55 1537.76 Q1289.55 1541.49 1291.38 1543.66 Q1293.23 1545.82 1296.38 1545.82 Q1299.53 1545.82 1301.36 1543.66 Q1303.21 1541.49 1303.21 1537.76 Q1303.21 1534.01 1301.36 1531.86 Q1299.53 1529.7 1296.38 1529.7 M1305.66 1515.05 L1305.66 1519.31 Q1303.9 1518.48 1302.1 1518.04 Q1300.31 1517.6 1298.55 1517.6 Q1293.92 1517.6 1291.47 1520.72 Q1289.04 1523.85 1288.69 1530.17 Q1290.06 1528.15 1292.12 1527.09 Q1294.18 1526 1296.66 1526 Q1301.86 1526 1304.87 1529.17 Q1307.91 1532.32 1307.91 1537.76 Q1307.91 1543.08 1304.76 1546.3 Q1301.61 1549.52 1296.38 1549.52 Q1290.38 1549.52 1287.21 1544.94 Q1284.04 1540.33 1284.04 1531.6 Q1284.04 1523.41 1287.93 1518.55 Q1291.82 1513.66 1298.37 1513.66 Q1300.13 1513.66 1301.91 1514.01 Q1303.72 1514.36 1305.66 1515.05 Z\" fill=\"#000000\" fill-rule=\"evenodd\" fill-opacity=\"1\" /><path clip-path=\"url(#clip080)\" d=\"M1694.76 1532.44 Q1691.43 1532.44 1689.5 1534.22 Q1687.61 1536 1687.61 1539.13 Q1687.61 1542.25 1689.5 1544.03 Q1691.43 1545.82 1694.76 1545.82 Q1698.09 1545.82 1700.01 1544.03 Q1701.93 1542.23 1701.93 1539.13 Q1701.93 1536 1700.01 1534.22 Q1698.12 1532.44 1694.76 1532.44 M1690.08 1530.45 Q1687.07 1529.7 1685.38 1527.64 Q1683.72 1525.58 1683.72 1522.62 Q1683.72 1518.48 1686.66 1516.07 Q1689.62 1513.66 1694.76 1513.66 Q1699.92 1513.66 1702.86 1516.07 Q1705.8 1518.48 1705.8 1522.62 Q1705.8 1525.58 1704.11 1527.64 Q1702.44 1529.7 1699.46 1530.45 Q1702.84 1531.23 1704.71 1533.52 Q1706.61 1535.82 1706.61 1539.13 Q1706.61 1544.15 1703.53 1546.83 Q1700.48 1549.52 1694.76 1549.52 Q1689.04 1549.52 1685.96 1546.83 Q1682.91 1544.15 1682.91 1539.13 Q1682.91 1535.82 1684.81 1533.52 Q1686.7 1531.23 1690.08 1530.45 M1688.37 1523.06 Q1688.37 1525.75 1690.04 1527.25 Q1691.73 1528.76 1694.76 1528.76 Q1697.77 1528.76 1699.46 1527.25 Q1701.17 1525.75 1701.17 1523.06 Q1701.17 1520.38 1699.46 1518.87 Q1697.77 1517.37 1694.76 1517.37 Q1691.73 1517.37 1690.04 1518.87 Q1688.37 1520.38 1688.37 1523.06 Z\" fill=\"#000000\" fill-rule=\"evenodd\" fill-opacity=\"1\" /><path clip-path=\"url(#clip080)\" d=\"M2068.23 1544.91 L2075.87 1544.91 L2075.87 1518.55 L2067.56 1520.21 L2067.56 1515.95 L2075.83 1514.29 L2080.5 1514.29 L2080.5 1544.91 L2088.14 1544.91 L2088.14 1548.85 L2068.23 1548.85 L2068.23 1544.91 Z\" fill=\"#000000\" fill-rule=\"evenodd\" fill-opacity=\"1\" /><path clip-path=\"url(#clip080)\" d=\"M2107.58 1517.37 Q2103.97 1517.37 2102.14 1520.93 Q2100.34 1524.47 2100.34 1531.6 Q2100.34 1538.71 2102.14 1542.27 Q2103.97 1545.82 2107.58 1545.82 Q2111.22 1545.82 2113.02 1542.27 Q2114.85 1538.71 2114.85 1531.6 Q2114.85 1524.47 2113.02 1520.93 Q2111.22 1517.37 2107.58 1517.37 M2107.58 1513.66 Q2113.39 1513.66 2116.45 1518.27 Q2119.53 1522.85 2119.53 1531.6 Q2119.53 1540.33 2116.45 1544.94 Q2113.39 1549.52 2107.58 1549.52 Q2101.77 1549.52 2098.7 1544.94 Q2095.64 1540.33 2095.64 1531.6 Q2095.64 1522.85 2098.7 1518.27 Q2101.77 1513.66 2107.58 1513.66 Z\" fill=\"#000000\" fill-rule=\"evenodd\" fill-opacity=\"1\" /><polyline clip-path=\"url(#clip082)\" style=\"stroke:#000000; stroke-linecap:butt; stroke-linejoin:round; stroke-width:2; stroke-opacity:0.1; fill:none\" points=\"\n  239.19,1218.04 2352.76,1218.04 \n  \"/>\n<polyline clip-path=\"url(#clip082)\" style=\"stroke:#000000; stroke-linecap:butt; stroke-linejoin:round; stroke-width:2; stroke-opacity:0.1; fill:none\" points=\"\n  239.19,899.157 2352.76,899.157 \n  \"/>\n<polyline clip-path=\"url(#clip082)\" style=\"stroke:#000000; stroke-linecap:butt; stroke-linejoin:round; stroke-width:2; stroke-opacity:0.1; fill:none\" points=\"\n  239.19,580.275 2352.76,580.275 \n  \"/>\n<polyline clip-path=\"url(#clip082)\" style=\"stroke:#000000; stroke-linecap:butt; stroke-linejoin:round; stroke-width:2; stroke-opacity:0.1; fill:none\" points=\"\n  239.19,261.392 2352.76,261.392 \n  \"/>\n<polyline clip-path=\"url(#clip080)\" style=\"stroke:#000000; stroke-linecap:butt; stroke-linejoin:round; stroke-width:4; stroke-opacity:1; fill:none\" points=\"\n  239.19,1486.45 239.19,123.472 \n  \"/>\n<polyline clip-path=\"url(#clip080)\" style=\"stroke:#000000; stroke-linecap:butt; stroke-linejoin:round; stroke-width:4; stroke-opacity:1; fill:none\" points=\"\n  239.19,1218.04 258.088,1218.04 \n  \"/>\n<polyline clip-path=\"url(#clip080)\" style=\"stroke:#000000; stroke-linecap:butt; stroke-linejoin:round; stroke-width:4; stroke-opacity:1; fill:none\" points=\"\n  239.19,899.157 258.088,899.157 \n  \"/>\n<polyline clip-path=\"url(#clip080)\" style=\"stroke:#000000; stroke-linecap:butt; stroke-linejoin:round; stroke-width:4; stroke-opacity:1; fill:none\" points=\"\n  239.19,580.275 258.088,580.275 \n  \"/>\n<polyline clip-path=\"url(#clip080)\" style=\"stroke:#000000; stroke-linecap:butt; stroke-linejoin:round; stroke-width:4; stroke-opacity:1; fill:none\" points=\"\n  239.19,261.392 258.088,261.392 \n  \"/>\n<path clip-path=\"url(#clip080)\" d=\"M50.9921 1218.49 L80.6679 1218.49 L80.6679 1222.43 L50.9921 1222.43 L50.9921 1218.49 Z\" fill=\"#000000\" fill-rule=\"evenodd\" fill-opacity=\"1\" /><path clip-path=\"url(#clip080)\" d=\"M90.8067 1200.76 L109.163 1200.76 L109.163 1204.7 L95.0891 1204.7 L95.0891 1213.17 Q96.1076 1212.82 97.1261 1212.66 Q98.1447 1212.47 99.1632 1212.47 Q104.95 1212.47 108.33 1215.64 Q111.709 1218.82 111.709 1224.23 Q111.709 1229.81 108.237 1232.91 Q104.765 1235.99 98.4456 1235.99 Q96.2697 1235.99 94.0012 1235.62 Q91.7558 1235.25 89.3484 1234.51 L89.3484 1229.81 Q91.4317 1230.95 93.6539 1231.5 Q95.8761 1232.06 98.353 1232.06 Q102.358 1232.06 104.696 1229.95 Q107.033 1227.84 107.033 1224.23 Q107.033 1220.62 104.696 1218.51 Q102.358 1216.41 98.353 1216.41 Q96.478 1216.41 94.603 1216.83 Q92.7512 1217.24 90.8067 1218.12 L90.8067 1200.76 Z\" fill=\"#000000\" fill-rule=\"evenodd\" fill-opacity=\"1\" /><path clip-path=\"url(#clip080)\" d=\"M133.769 1204.83 L121.964 1223.28 L133.769 1223.28 L133.769 1204.83 M132.543 1200.76 L138.422 1200.76 L138.422 1223.28 L143.353 1223.28 L143.353 1227.17 L138.422 1227.17 L138.422 1235.32 L133.769 1235.32 L133.769 1227.17 L118.168 1227.17 L118.168 1222.66 L132.543 1200.76 Z\" fill=\"#000000\" fill-rule=\"evenodd\" fill-opacity=\"1\" /><path clip-path=\"url(#clip080)\" d=\"M161.084 1203.84 Q157.473 1203.84 155.644 1207.4 Q153.839 1210.95 153.839 1218.08 Q153.839 1225.18 155.644 1228.75 Q157.473 1232.29 161.084 1232.29 Q164.718 1232.29 166.524 1228.75 Q168.353 1225.18 168.353 1218.08 Q168.353 1210.95 166.524 1207.4 Q164.718 1203.84 161.084 1203.84 M161.084 1200.14 Q166.894 1200.14 169.95 1204.74 Q173.029 1209.33 173.029 1218.08 Q173.029 1226.8 169.95 1231.41 Q166.894 1235.99 161.084 1235.99 Q155.274 1235.99 152.195 1231.41 Q149.14 1226.8 149.14 1218.08 Q149.14 1209.33 152.195 1204.74 Q155.274 1200.14 161.084 1200.14 Z\" fill=\"#000000\" fill-rule=\"evenodd\" fill-opacity=\"1\" /><path clip-path=\"url(#clip080)\" d=\"M191.246 1203.84 Q187.635 1203.84 185.806 1207.4 Q184.001 1210.95 184.001 1218.08 Q184.001 1225.18 185.806 1228.75 Q187.635 1232.29 191.246 1232.29 Q194.88 1232.29 196.686 1228.75 Q198.514 1225.18 198.514 1218.08 Q198.514 1210.95 196.686 1207.4 Q194.88 1203.84 191.246 1203.84 M191.246 1200.14 Q197.056 1200.14 200.112 1204.74 Q203.19 1209.33 203.19 1218.08 Q203.19 1226.8 200.112 1231.41 Q197.056 1235.99 191.246 1235.99 Q185.436 1235.99 182.357 1231.41 Q179.302 1226.8 179.302 1218.08 Q179.302 1209.33 182.357 1204.74 Q185.436 1200.14 191.246 1200.14 Z\" fill=\"#000000\" fill-rule=\"evenodd\" fill-opacity=\"1\" /><path clip-path=\"url(#clip080)\" d=\"M50.9921 899.609 L80.6679 899.609 L80.6679 903.544 L50.9921 903.544 L50.9921 899.609 Z\" fill=\"#000000\" fill-rule=\"evenodd\" fill-opacity=\"1\" /><path clip-path=\"url(#clip080)\" d=\"M90.8067 881.877 L109.163 881.877 L109.163 885.813 L95.0891 885.813 L95.0891 894.285 Q96.1076 893.938 97.1261 893.776 Q98.1447 893.59 99.1632 893.59 Q104.95 893.59 108.33 896.762 Q111.709 899.933 111.709 905.35 Q111.709 910.928 108.237 914.03 Q104.765 917.109 98.4456 917.109 Q96.2697 917.109 94.0012 916.738 Q91.7558 916.368 89.3484 915.627 L89.3484 910.928 Q91.4317 912.062 93.6539 912.618 Q95.8761 913.174 98.353 913.174 Q102.358 913.174 104.696 911.067 Q107.033 908.961 107.033 905.35 Q107.033 901.738 104.696 899.632 Q102.358 897.525 98.353 897.525 Q96.478 897.525 94.603 897.942 Q92.7512 898.359 90.8067 899.238 L90.8067 881.877 Z\" fill=\"#000000\" fill-rule=\"evenodd\" fill-opacity=\"1\" /><path clip-path=\"url(#clip080)\" d=\"M135.089 897.803 Q138.445 898.521 140.32 900.789 Q142.218 903.058 142.218 906.391 Q142.218 911.507 138.7 914.308 Q135.181 917.109 128.7 917.109 Q126.524 917.109 124.209 916.669 Q121.918 916.252 119.464 915.396 L119.464 910.882 Q121.408 912.016 123.723 912.595 Q126.038 913.174 128.561 913.174 Q132.959 913.174 135.251 911.437 Q137.566 909.701 137.566 906.391 Q137.566 903.336 135.413 901.623 Q133.283 899.887 129.464 899.887 L125.436 899.887 L125.436 896.044 L129.649 896.044 Q133.098 896.044 134.927 894.678 Q136.756 893.289 136.756 890.697 Q136.756 888.035 134.857 886.623 Q132.982 885.188 129.464 885.188 Q127.543 885.188 125.344 885.604 Q123.145 886.021 120.506 886.901 L120.506 882.734 Q123.168 881.993 125.482 881.623 Q127.82 881.252 129.881 881.252 Q135.205 881.252 138.306 883.683 Q141.408 886.09 141.408 890.211 Q141.408 893.081 139.765 895.072 Q138.121 897.039 135.089 897.803 Z\" fill=\"#000000\" fill-rule=\"evenodd\" fill-opacity=\"1\" /><path clip-path=\"url(#clip080)\" d=\"M151.223 915.72 L151.223 911.461 Q152.982 912.294 154.788 912.734 Q156.593 913.174 158.33 913.174 Q162.959 913.174 165.39 910.072 Q167.843 906.947 168.191 900.604 Q166.848 902.595 164.788 903.66 Q162.728 904.725 160.228 904.725 Q155.042 904.725 152.01 901.6 Q149.001 898.451 149.001 893.012 Q149.001 887.688 152.149 884.47 Q155.297 881.252 160.529 881.252 Q166.524 881.252 169.672 885.859 Q172.843 890.442 172.843 899.192 Q172.843 907.363 168.954 912.248 Q165.089 917.109 158.538 917.109 Q156.779 917.109 154.973 916.762 Q153.168 916.414 151.223 915.72 M160.529 901.067 Q163.677 901.067 165.505 898.914 Q167.357 896.762 167.357 893.012 Q167.357 889.285 165.505 887.132 Q163.677 884.956 160.529 884.956 Q157.38 884.956 155.529 887.132 Q153.7 889.285 153.7 893.012 Q153.7 896.762 155.529 898.914 Q157.38 901.067 160.529 901.067 Z\" fill=\"#000000\" fill-rule=\"evenodd\" fill-opacity=\"1\" /><path clip-path=\"url(#clip080)\" d=\"M191.246 884.956 Q187.635 884.956 185.806 888.521 Q184.001 892.063 184.001 899.192 Q184.001 906.299 185.806 909.863 Q187.635 913.405 191.246 913.405 Q194.88 913.405 196.686 909.863 Q198.514 906.299 198.514 899.192 Q198.514 892.063 196.686 888.521 Q194.88 884.956 191.246 884.956 M191.246 881.252 Q197.056 881.252 200.112 885.859 Q203.19 890.442 203.19 899.192 Q203.19 907.919 200.112 912.525 Q197.056 917.109 191.246 917.109 Q185.436 917.109 182.357 912.525 Q179.302 907.919 179.302 899.192 Q179.302 890.442 182.357 885.859 Q185.436 881.252 191.246 881.252 Z\" fill=\"#000000\" fill-rule=\"evenodd\" fill-opacity=\"1\" /><path clip-path=\"url(#clip080)\" d=\"M50.9921 580.726 L80.6679 580.726 L80.6679 584.661 L50.9921 584.661 L50.9921 580.726 Z\" fill=\"#000000\" fill-rule=\"evenodd\" fill-opacity=\"1\" /><path clip-path=\"url(#clip080)\" d=\"M90.8067 562.995 L109.163 562.995 L109.163 566.93 L95.0891 566.93 L95.0891 575.402 Q96.1076 575.055 97.1261 574.893 Q98.1447 574.707 99.1632 574.707 Q104.95 574.707 108.33 577.879 Q111.709 581.05 111.709 586.467 Q111.709 592.045 108.237 595.147 Q104.765 598.226 98.4456 598.226 Q96.2697 598.226 94.0012 597.855 Q91.7558 597.485 89.3484 596.744 L89.3484 592.045 Q91.4317 593.18 93.6539 593.735 Q95.8761 594.291 98.353 594.291 Q102.358 594.291 104.696 592.184 Q107.033 590.078 107.033 586.467 Q107.033 582.856 104.696 580.749 Q102.358 578.643 98.353 578.643 Q96.478 578.643 94.603 579.059 Q92.7512 579.476 90.8067 580.356 L90.8067 562.995 Z\" fill=\"#000000\" fill-rule=\"evenodd\" fill-opacity=\"1\" /><path clip-path=\"url(#clip080)\" d=\"M135.089 578.92 Q138.445 579.638 140.32 581.906 Q142.218 584.175 142.218 587.508 Q142.218 592.624 138.7 595.425 Q135.181 598.226 128.7 598.226 Q126.524 598.226 124.209 597.786 Q121.918 597.369 119.464 596.513 L119.464 591.999 Q121.408 593.133 123.723 593.712 Q126.038 594.291 128.561 594.291 Q132.959 594.291 135.251 592.555 Q137.566 590.818 137.566 587.508 Q137.566 584.453 135.413 582.74 Q133.283 581.004 129.464 581.004 L125.436 581.004 L125.436 577.161 L129.649 577.161 Q133.098 577.161 134.927 575.795 Q136.756 574.407 136.756 571.814 Q136.756 569.152 134.857 567.74 Q132.982 566.305 129.464 566.305 Q127.543 566.305 125.344 566.721 Q123.145 567.138 120.506 568.018 L120.506 563.851 Q123.168 563.11 125.482 562.74 Q127.82 562.37 129.881 562.37 Q135.205 562.37 138.306 564.8 Q141.408 567.208 141.408 571.328 Q141.408 574.198 139.765 576.189 Q138.121 578.157 135.089 578.92 Z\" fill=\"#000000\" fill-rule=\"evenodd\" fill-opacity=\"1\" /><path clip-path=\"url(#clip080)\" d=\"M161.084 581.143 Q157.751 581.143 155.83 582.925 Q153.931 584.707 153.931 587.832 Q153.931 590.957 155.83 592.74 Q157.751 594.522 161.084 594.522 Q164.417 594.522 166.339 592.74 Q168.26 590.934 168.26 587.832 Q168.26 584.707 166.339 582.925 Q164.441 581.143 161.084 581.143 M156.408 579.152 Q153.399 578.411 151.709 576.351 Q150.043 574.291 150.043 571.328 Q150.043 567.184 152.982 564.777 Q155.945 562.37 161.084 562.37 Q166.246 562.37 169.186 564.777 Q172.126 567.184 172.126 571.328 Q172.126 574.291 170.436 576.351 Q168.769 578.411 165.783 579.152 Q169.163 579.939 171.038 582.231 Q172.936 584.522 172.936 587.832 Q172.936 592.856 169.857 595.541 Q166.802 598.226 161.084 598.226 Q155.367 598.226 152.288 595.541 Q149.232 592.856 149.232 587.832 Q149.232 584.522 151.13 582.231 Q153.029 579.939 156.408 579.152 M154.695 571.768 Q154.695 574.453 156.362 575.957 Q158.052 577.462 161.084 577.462 Q164.093 577.462 165.783 575.957 Q167.496 574.453 167.496 571.768 Q167.496 569.082 165.783 567.578 Q164.093 566.073 161.084 566.073 Q158.052 566.073 156.362 567.578 Q154.695 569.082 154.695 571.768 Z\" fill=\"#000000\" fill-rule=\"evenodd\" fill-opacity=\"1\" /><path clip-path=\"url(#clip080)\" d=\"M191.246 566.073 Q187.635 566.073 185.806 569.638 Q184.001 573.18 184.001 580.309 Q184.001 587.416 185.806 590.981 Q187.635 594.522 191.246 594.522 Q194.88 594.522 196.686 590.981 Q198.514 587.416 198.514 580.309 Q198.514 573.18 196.686 569.638 Q194.88 566.073 191.246 566.073 M191.246 562.37 Q197.056 562.37 200.112 566.976 Q203.19 571.559 203.19 580.309 Q203.19 589.036 200.112 593.643 Q197.056 598.226 191.246 598.226 Q185.436 598.226 182.357 593.643 Q179.302 589.036 179.302 580.309 Q179.302 571.559 182.357 566.976 Q185.436 562.37 191.246 562.37 Z\" fill=\"#000000\" fill-rule=\"evenodd\" fill-opacity=\"1\" /><path clip-path=\"url(#clip080)\" d=\"M50.9921 261.843 L80.6679 261.843 L80.6679 265.778 L50.9921 265.778 L50.9921 261.843 Z\" fill=\"#000000\" fill-rule=\"evenodd\" fill-opacity=\"1\" /><path clip-path=\"url(#clip080)\" d=\"M90.8067 244.112 L109.163 244.112 L109.163 248.047 L95.0891 248.047 L95.0891 256.519 Q96.1076 256.172 97.1261 256.01 Q98.1447 255.825 99.1632 255.825 Q104.95 255.825 108.33 258.996 Q111.709 262.167 111.709 267.584 Q111.709 273.162 108.237 276.264 Q104.765 279.343 98.4456 279.343 Q96.2697 279.343 94.0012 278.973 Q91.7558 278.602 89.3484 277.862 L89.3484 273.162 Q91.4317 274.297 93.6539 274.852 Q95.8761 275.408 98.353 275.408 Q102.358 275.408 104.696 273.301 Q107.033 271.195 107.033 267.584 Q107.033 263.973 104.696 261.866 Q102.358 259.76 98.353 259.76 Q96.478 259.76 94.603 260.176 Q92.7512 260.593 90.8067 261.473 L90.8067 244.112 Z\" fill=\"#000000\" fill-rule=\"evenodd\" fill-opacity=\"1\" /><path clip-path=\"url(#clip080)\" d=\"M135.089 260.038 Q138.445 260.755 140.32 263.024 Q142.218 265.292 142.218 268.625 Q142.218 273.741 138.7 276.542 Q135.181 279.343 128.7 279.343 Q126.524 279.343 124.209 278.903 Q121.918 278.487 119.464 277.63 L119.464 273.116 Q121.408 274.25 123.723 274.829 Q126.038 275.408 128.561 275.408 Q132.959 275.408 135.251 273.672 Q137.566 271.936 137.566 268.625 Q137.566 265.57 135.413 263.857 Q133.283 262.121 129.464 262.121 L125.436 262.121 L125.436 258.278 L129.649 258.278 Q133.098 258.278 134.927 256.913 Q136.756 255.524 136.756 252.931 Q136.756 250.269 134.857 248.857 Q132.982 247.422 129.464 247.422 Q127.543 247.422 125.344 247.839 Q123.145 248.255 120.506 249.135 L120.506 244.968 Q123.168 244.227 125.482 243.857 Q127.82 243.487 129.881 243.487 Q135.205 243.487 138.306 245.917 Q141.408 248.325 141.408 252.445 Q141.408 255.315 139.765 257.306 Q138.121 259.274 135.089 260.038 Z\" fill=\"#000000\" fill-rule=\"evenodd\" fill-opacity=\"1\" /><path clip-path=\"url(#clip080)\" d=\"M149.904 244.112 L172.126 244.112 L172.126 246.102 L159.58 278.672 L154.695 278.672 L166.501 248.047 L149.904 248.047 L149.904 244.112 Z\" fill=\"#000000\" fill-rule=\"evenodd\" fill-opacity=\"1\" /><path clip-path=\"url(#clip080)\" d=\"M191.246 247.19 Q187.635 247.19 185.806 250.755 Q184.001 254.297 184.001 261.426 Q184.001 268.533 185.806 272.098 Q187.635 275.639 191.246 275.639 Q194.88 275.639 196.686 272.098 Q198.514 268.533 198.514 261.426 Q198.514 254.297 196.686 250.755 Q194.88 247.19 191.246 247.19 M191.246 243.487 Q197.056 243.487 200.112 248.093 Q203.19 252.676 203.19 261.426 Q203.19 270.153 200.112 274.76 Q197.056 279.343 191.246 279.343 Q185.436 279.343 182.357 274.76 Q179.302 270.153 179.302 261.426 Q179.302 252.676 182.357 248.093 Q185.436 243.487 191.246 243.487 Z\" fill=\"#000000\" fill-rule=\"evenodd\" fill-opacity=\"1\" /><path clip-path=\"url(#clip080)\" d=\"M684.57 12.096 L692.753 12.096 L692.753 65.6895 L722.203 65.6895 L722.203 72.576 L684.57 72.576 L684.57 12.096 Z\" fill=\"#000000\" fill-rule=\"evenodd\" fill-opacity=\"1\" /><path clip-path=\"url(#clip080)\" d=\"M746.59 32.4315 Q740.594 32.4315 737.11 37.1306 Q733.627 41.7891 733.627 49.9314 Q733.627 58.0738 737.07 62.7728 Q740.554 67.4314 746.59 67.4314 Q752.544 67.4314 756.028 62.7323 Q759.512 58.0333 759.512 49.9314 Q759.512 41.8701 756.028 37.1711 Q752.544 32.4315 746.59 32.4315 M746.59 26.1121 Q756.312 26.1121 761.861 32.4315 Q767.411 38.7509 767.411 49.9314 Q767.411 61.0714 761.861 67.4314 Q756.312 73.7508 746.59 73.7508 Q736.827 73.7508 731.277 67.4314 Q725.768 61.0714 725.768 49.9314 Q725.768 38.7509 731.277 32.4315 Q736.827 26.1121 746.59 26.1121 Z\" fill=\"#000000\" fill-rule=\"evenodd\" fill-opacity=\"1\" /><path clip-path=\"url(#clip080)\" d=\"M809.622 49.3643 Q809.622 41.2625 806.259 36.8065 Q802.938 32.3505 796.902 32.3505 Q790.906 32.3505 787.544 36.8065 Q784.222 41.2625 784.222 49.3643 Q784.222 57.4256 787.544 61.8816 Q790.906 66.3376 796.902 66.3376 Q802.938 66.3376 806.259 61.8816 Q809.622 57.4256 809.622 49.3643 M817.075 66.9452 Q817.075 78.5308 811.931 84.1616 Q806.786 89.8329 796.173 89.8329 Q792.243 89.8329 788.759 89.2252 Q785.276 88.6581 781.994 87.4428 L781.994 80.1917 Q785.276 81.9741 788.476 82.8248 Q791.676 83.6755 794.998 83.6755 Q802.33 83.6755 805.976 79.8271 Q809.622 76.0193 809.622 68.282 L809.622 64.5957 Q807.313 68.6061 803.707 70.5911 Q800.102 72.576 795.079 72.576 Q786.734 72.576 781.63 66.2161 Q776.526 59.8562 776.526 49.3643 Q776.526 38.832 781.63 32.472 Q786.734 26.1121 795.079 26.1121 Q800.102 26.1121 803.707 28.0971 Q807.313 30.082 809.622 34.0924 L809.622 27.2059 L817.075 27.2059 L817.075 66.9452 Z\" fill=\"#000000\" fill-rule=\"evenodd\" fill-opacity=\"1\" /><path clip-path=\"url(#clip080)\" d=\"M828.661 46.5287 L850.495 46.5287 L850.495 53.1722 L828.661 53.1722 L828.661 46.5287 Z\" fill=\"#000000\" fill-rule=\"evenodd\" fill-opacity=\"1\" /><path clip-path=\"url(#clip080)\" d=\"M862.364 27.2059 L869.818 27.2059 L869.818 73.3862 Q869.818 82.0551 866.496 85.944 Q863.215 89.8329 855.883 89.8329 L853.047 89.8329 L853.047 83.5134 L855.032 83.5134 Q859.286 83.5134 860.825 81.5285 Q862.364 79.5841 862.364 73.3862 L862.364 27.2059 M862.364 9.54393 L869.818 9.54393 L869.818 18.9825 L862.364 18.9825 L862.364 9.54393 Z\" fill=\"#000000\" fill-rule=\"evenodd\" fill-opacity=\"1\" /><path clip-path=\"url(#clip080)\" d=\"M902.995 32.4315 Q897 32.4315 893.516 37.1306 Q890.032 41.7891 890.032 49.9314 Q890.032 58.0738 893.475 62.7728 Q896.959 67.4314 902.995 67.4314 Q908.95 67.4314 912.434 62.7323 Q915.917 58.0333 915.917 49.9314 Q915.917 41.8701 912.434 37.1711 Q908.95 32.4315 902.995 32.4315 M902.995 26.1121 Q912.717 26.1121 918.267 32.4315 Q923.817 38.7509 923.817 49.9314 Q923.817 61.0714 918.267 67.4314 Q912.717 73.7508 902.995 73.7508 Q893.232 73.7508 887.683 67.4314 Q882.173 61.0714 882.173 49.9314 Q882.173 38.7509 887.683 32.4315 Q893.232 26.1121 902.995 26.1121 Z\" fill=\"#000000\" fill-rule=\"evenodd\" fill-opacity=\"1\" /><path clip-path=\"url(#clip080)\" d=\"M936.172 27.2059 L943.625 27.2059 L943.625 72.576 L936.172 72.576 L936.172 27.2059 M936.172 9.54393 L943.625 9.54393 L943.625 18.9825 L936.172 18.9825 L936.172 9.54393 Z\" fill=\"#000000\" fill-rule=\"evenodd\" fill-opacity=\"1\" /><path clip-path=\"url(#clip080)\" d=\"M996.935 45.1919 L996.935 72.576 L989.482 72.576 L989.482 45.4349 Q989.482 38.994 986.97 35.7938 Q984.459 32.5936 979.435 32.5936 Q973.4 32.5936 969.916 36.4419 Q966.432 40.2903 966.432 46.9338 L966.432 72.576 L958.938 72.576 L958.938 27.2059 L966.432 27.2059 L966.432 34.2544 Q969.106 30.163 972.711 28.1376 Q976.357 26.1121 981.096 26.1121 Q988.915 26.1121 992.925 30.9732 Q996.935 35.7938 996.935 45.1919 Z\" fill=\"#000000\" fill-rule=\"evenodd\" fill-opacity=\"1\" /><path clip-path=\"url(#clip080)\" d=\"M1019.17 14.324 L1019.17 27.2059 L1034.53 27.2059 L1034.53 32.9987 L1019.17 32.9987 L1019.17 57.6282 Q1019.17 63.1779 1020.67 64.7578 Q1022.21 66.3376 1026.87 66.3376 L1034.53 66.3376 L1034.53 72.576 L1026.87 72.576 Q1018.24 72.576 1014.96 69.3758 Q1011.68 66.1351 1011.68 57.6282 L1011.68 32.9987 L1006.21 32.9987 L1006.21 27.2059 L1011.68 27.2059 L1011.68 14.324 L1019.17 14.324 Z\" fill=\"#000000\" fill-rule=\"evenodd\" fill-opacity=\"1\" /><path clip-path=\"url(#clip080)\" d=\"M1091.32 49.7694 Q1082.29 49.7694 1078.8 51.8354 Q1075.32 53.9013 1075.32 58.8839 Q1075.32 62.8538 1077.91 65.2034 Q1080.55 67.5124 1085.04 67.5124 Q1091.24 67.5124 1094.97 63.1374 Q1098.73 58.7219 1098.73 51.4303 L1098.73 49.7694 L1091.32 49.7694 M1106.19 46.6907 L1106.19 72.576 L1098.73 72.576 L1098.73 65.6895 Q1096.18 69.8214 1092.37 71.8063 Q1088.57 73.7508 1083.06 73.7508 Q1076.09 73.7508 1071.96 69.8619 Q1067.87 65.9325 1067.87 59.3701 Q1067.87 51.7138 1072.97 47.825 Q1078.12 43.9361 1088.28 43.9361 L1098.73 43.9361 L1098.73 43.2069 Q1098.73 38.0623 1095.33 35.2672 Q1091.97 32.4315 1085.85 32.4315 Q1081.96 32.4315 1078.28 33.3632 Q1074.59 34.295 1071.19 36.1584 L1071.19 29.2718 Q1075.28 27.692 1079.13 26.9223 Q1082.98 26.1121 1086.62 26.1121 Q1096.47 26.1121 1101.33 31.2163 Q1106.19 36.3204 1106.19 46.6907 Z\" fill=\"#000000\" fill-rule=\"evenodd\" fill-opacity=\"1\" /><path clip-path=\"url(#clip080)\" d=\"M1154.19 28.9478 L1154.19 35.9153 Q1151.03 34.1734 1147.83 33.3227 Q1144.67 32.4315 1141.43 32.4315 Q1134.18 32.4315 1130.17 37.0496 Q1126.16 41.6271 1126.16 49.9314 Q1126.16 58.2358 1130.17 62.8538 Q1134.18 67.4314 1141.43 67.4314 Q1144.67 67.4314 1147.83 66.5807 Q1151.03 65.6895 1154.19 63.9476 L1154.19 70.8341 Q1151.07 72.2924 1147.71 73.0216 Q1144.39 73.7508 1140.62 73.7508 Q1130.37 73.7508 1124.34 67.3098 Q1118.3 60.8689 1118.3 49.9314 Q1118.3 38.832 1124.38 32.472 Q1130.49 26.1121 1141.11 26.1121 Q1144.55 26.1121 1147.83 26.8413 Q1151.11 27.5299 1154.19 28.9478 Z\" fill=\"#000000\" fill-rule=\"evenodd\" fill-opacity=\"1\" /><path clip-path=\"url(#clip080)\" d=\"M1193.44 34.1734 Q1192.19 33.4443 1190.69 33.1202 Q1189.23 32.7556 1187.45 32.7556 Q1181.13 32.7556 1177.73 36.8875 Q1174.37 40.9789 1174.37 48.6757 L1174.37 72.576 L1166.87 72.576 L1166.87 27.2059 L1174.37 27.2059 L1174.37 34.2544 Q1176.71 30.1225 1180.48 28.1376 Q1184.25 26.1121 1189.64 26.1121 Q1190.41 26.1121 1191.34 26.2337 Q1192.27 26.3147 1193.4 26.5172 L1193.44 34.1734 Z\" fill=\"#000000\" fill-rule=\"evenodd\" fill-opacity=\"1\" /><path clip-path=\"url(#clip080)\" d=\"M1217.02 32.4315 Q1211.03 32.4315 1207.54 37.1306 Q1204.06 41.7891 1204.06 49.9314 Q1204.06 58.0738 1207.5 62.7728 Q1210.99 67.4314 1217.02 67.4314 Q1222.98 67.4314 1226.46 62.7323 Q1229.94 58.0333 1229.94 49.9314 Q1229.94 41.8701 1226.46 37.1711 Q1222.98 32.4315 1217.02 32.4315 M1217.02 26.1121 Q1226.74 26.1121 1232.29 32.4315 Q1237.84 38.7509 1237.84 49.9314 Q1237.84 61.0714 1232.29 67.4314 Q1226.74 73.7508 1217.02 73.7508 Q1207.26 73.7508 1201.71 67.4314 Q1196.2 61.0714 1196.2 49.9314 Q1196.2 38.7509 1201.71 32.4315 Q1207.26 26.1121 1217.02 26.1121 Z\" fill=\"#000000\" fill-rule=\"evenodd\" fill-opacity=\"1\" /><path clip-path=\"url(#clip080)\" d=\"M1279.12 28.5427 L1279.12 35.5912 Q1275.96 33.9709 1272.56 33.1607 Q1269.16 32.3505 1265.51 32.3505 Q1259.96 32.3505 1257.17 34.0519 Q1254.41 35.7533 1254.41 39.156 Q1254.41 41.7486 1256.4 43.2475 Q1258.38 44.7058 1264.38 46.0426 L1266.93 46.6097 Q1274.87 48.3111 1278.19 51.4303 Q1281.55 54.509 1281.55 60.0587 Q1281.55 66.3781 1276.53 70.0644 Q1271.55 73.7508 1262.8 73.7508 Q1259.15 73.7508 1255.18 73.0216 Q1251.25 72.3329 1246.88 70.9151 L1246.88 63.2184 Q1251.01 65.3654 1255.02 66.4591 Q1259.03 67.5124 1262.96 67.5124 Q1268.22 67.5124 1271.06 65.73 Q1273.9 63.9071 1273.9 60.6258 Q1273.9 57.5877 1271.83 55.9673 Q1269.8 54.3469 1262.88 52.8481 L1260.28 52.2405 Q1253.36 50.7821 1250.28 47.7845 Q1247.2 44.7463 1247.2 39.4801 Q1247.2 33.0797 1251.74 29.5959 Q1256.27 26.1121 1264.62 26.1121 Q1268.75 26.1121 1272.4 26.7198 Q1276.04 27.3274 1279.12 28.5427 Z\" fill=\"#000000\" fill-rule=\"evenodd\" fill-opacity=\"1\" /><path clip-path=\"url(#clip080)\" d=\"M1322.34 28.5427 L1322.34 35.5912 Q1319.18 33.9709 1315.78 33.1607 Q1312.38 32.3505 1308.73 32.3505 Q1303.18 32.3505 1300.39 34.0519 Q1297.63 35.7533 1297.63 39.156 Q1297.63 41.7486 1299.62 43.2475 Q1301.6 44.7058 1307.6 46.0426 L1310.15 46.6097 Q1318.09 48.3111 1321.41 51.4303 Q1324.78 54.509 1324.78 60.0587 Q1324.78 66.3781 1319.75 70.0644 Q1314.77 73.7508 1306.02 73.7508 Q1302.37 73.7508 1298.4 73.0216 Q1294.47 72.3329 1290.1 70.9151 L1290.1 63.2184 Q1294.23 65.3654 1298.24 66.4591 Q1302.25 67.5124 1306.18 67.5124 Q1311.45 67.5124 1314.28 65.73 Q1317.12 63.9071 1317.12 60.6258 Q1317.12 57.5877 1315.05 55.9673 Q1313.03 54.3469 1306.1 52.8481 L1303.51 52.2405 Q1296.58 50.7821 1293.5 47.7845 Q1290.42 44.7463 1290.42 39.4801 Q1290.42 33.0797 1294.96 29.5959 Q1299.5 26.1121 1307.84 26.1121 Q1311.97 26.1121 1315.62 26.7198 Q1319.27 27.3274 1322.34 28.5427 Z\" fill=\"#000000\" fill-rule=\"evenodd\" fill-opacity=\"1\" /><path clip-path=\"url(#clip080)\" d=\"M1370.39 14.324 L1370.39 27.2059 L1385.74 27.2059 L1385.74 32.9987 L1370.39 32.9987 L1370.39 57.6282 Q1370.39 63.1779 1371.89 64.7578 Q1373.43 66.3376 1378.08 66.3376 L1385.74 66.3376 L1385.74 72.576 L1378.08 72.576 Q1369.46 72.576 1366.18 69.3758 Q1362.89 66.1351 1362.89 57.6282 L1362.89 32.9987 L1357.43 32.9987 L1357.43 27.2059 L1362.89 27.2059 L1362.89 14.324 L1370.39 14.324 Z\" fill=\"#000000\" fill-rule=\"evenodd\" fill-opacity=\"1\" /><path clip-path=\"url(#clip080)\" d=\"M1433.26 45.1919 L1433.26 72.576 L1425.8 72.576 L1425.8 45.4349 Q1425.8 38.994 1423.29 35.7938 Q1420.78 32.5936 1415.76 32.5936 Q1409.72 32.5936 1406.24 36.4419 Q1402.75 40.2903 1402.75 46.9338 L1402.75 72.576 L1395.26 72.576 L1395.26 9.54393 L1402.75 9.54393 L1402.75 34.2544 Q1405.43 30.163 1409.03 28.1376 Q1412.68 26.1121 1417.42 26.1121 Q1425.24 26.1121 1429.25 30.9732 Q1433.26 35.7938 1433.26 45.1919 Z\" fill=\"#000000\" fill-rule=\"evenodd\" fill-opacity=\"1\" /><path clip-path=\"url(#clip080)\" d=\"M1486.93 48.0275 L1486.93 51.6733 L1452.66 51.6733 Q1453.15 59.3701 1457.28 63.421 Q1461.45 67.4314 1468.87 67.4314 Q1473.16 67.4314 1477.17 66.3781 Q1481.22 65.3249 1485.19 63.2184 L1485.19 70.267 Q1481.18 71.9684 1476.97 72.8596 Q1472.75 73.7508 1468.42 73.7508 Q1457.56 73.7508 1451.2 67.4314 Q1444.88 61.1119 1444.88 50.3365 Q1444.88 39.1965 1450.88 32.6746 Q1456.92 26.1121 1467.12 26.1121 Q1476.28 26.1121 1481.59 32.0264 Q1486.93 37.9003 1486.93 48.0275 M1479.48 45.84 Q1479.4 39.7232 1476.04 36.0774 Q1472.71 32.4315 1467.2 32.4315 Q1460.97 32.4315 1457.2 35.9558 Q1453.47 39.4801 1452.91 45.8805 L1479.48 45.84 Z\" fill=\"#000000\" fill-rule=\"evenodd\" fill-opacity=\"1\" /><path clip-path=\"url(#clip080)\" d=\"M1525.54 27.2059 L1532.99 27.2059 L1532.99 72.576 L1525.54 72.576 L1525.54 27.2059 M1525.54 9.54393 L1532.99 9.54393 L1532.99 18.9825 L1525.54 18.9825 L1525.54 9.54393 Z\" fill=\"#000000\" fill-rule=\"evenodd\" fill-opacity=\"1\" /><path clip-path=\"url(#clip080)\" d=\"M1555.96 14.324 L1555.96 27.2059 L1571.31 27.2059 L1571.31 32.9987 L1555.96 32.9987 L1555.96 57.6282 Q1555.96 63.1779 1557.46 64.7578 Q1559 66.3376 1563.66 66.3376 L1571.31 66.3376 L1571.31 72.576 L1563.66 72.576 Q1555.03 72.576 1551.75 69.3758 Q1548.47 66.1351 1548.47 57.6282 L1548.47 32.9987 L1543 32.9987 L1543 27.2059 L1548.47 27.2059 L1548.47 14.324 L1555.96 14.324 Z\" fill=\"#000000\" fill-rule=\"evenodd\" fill-opacity=\"1\" /><path clip-path=\"url(#clip080)\" d=\"M1619.92 48.0275 L1619.92 51.6733 L1585.65 51.6733 Q1586.14 59.3701 1590.27 63.421 Q1594.44 67.4314 1601.86 67.4314 Q1606.15 67.4314 1610.16 66.3781 Q1614.21 65.3249 1618.18 63.2184 L1618.18 70.267 Q1614.17 71.9684 1609.96 72.8596 Q1605.75 73.7508 1601.41 73.7508 Q1590.55 73.7508 1584.19 67.4314 Q1577.88 61.1119 1577.88 50.3365 Q1577.88 39.1965 1583.87 32.6746 Q1589.91 26.1121 1600.12 26.1121 Q1609.27 26.1121 1614.58 32.0264 Q1619.92 37.9003 1619.92 48.0275 M1612.47 45.84 Q1612.39 39.7232 1609.03 36.0774 Q1605.71 32.4315 1600.2 32.4315 Q1593.96 32.4315 1590.19 35.9558 Q1586.46 39.4801 1585.9 45.8805 L1612.47 45.84 Z\" fill=\"#000000\" fill-rule=\"evenodd\" fill-opacity=\"1\" /><path clip-path=\"url(#clip080)\" d=\"M1658.45 34.1734 Q1657.19 33.4443 1655.69 33.1202 Q1654.24 32.7556 1652.45 32.7556 Q1646.13 32.7556 1642.73 36.8875 Q1639.37 40.9789 1639.37 48.6757 L1639.37 72.576 L1631.87 72.576 L1631.87 27.2059 L1639.37 27.2059 L1639.37 34.2544 Q1641.72 30.1225 1645.49 28.1376 Q1649.25 26.1121 1654.64 26.1121 Q1655.41 26.1121 1656.34 26.2337 Q1657.27 26.3147 1658.41 26.5172 L1658.45 34.1734 Z\" fill=\"#000000\" fill-rule=\"evenodd\" fill-opacity=\"1\" /><path clip-path=\"url(#clip080)\" d=\"M1686.89 49.7694 Q1677.85 49.7694 1674.37 51.8354 Q1670.88 53.9013 1670.88 58.8839 Q1670.88 62.8538 1673.48 65.2034 Q1676.11 67.5124 1680.61 67.5124 Q1686.8 67.5124 1690.53 63.1374 Q1694.3 58.7219 1694.3 51.4303 L1694.3 49.7694 L1686.89 49.7694 M1701.75 46.6907 L1701.75 72.576 L1694.3 72.576 L1694.3 65.6895 Q1691.75 69.8214 1687.94 71.8063 Q1684.13 73.7508 1678.62 73.7508 Q1671.65 73.7508 1667.52 69.8619 Q1663.43 65.9325 1663.43 59.3701 Q1663.43 51.7138 1668.53 47.825 Q1673.68 43.9361 1683.85 43.9361 L1694.3 43.9361 L1694.3 43.2069 Q1694.3 38.0623 1690.9 35.2672 Q1687.53 32.4315 1681.42 32.4315 Q1677.53 32.4315 1673.84 33.3632 Q1670.16 34.295 1666.75 36.1584 L1666.75 29.2718 Q1670.84 27.692 1674.69 26.9223 Q1678.54 26.1121 1682.19 26.1121 Q1692.03 26.1121 1696.89 31.2163 Q1701.75 36.3204 1701.75 46.6907 Z\" fill=\"#000000\" fill-rule=\"evenodd\" fill-opacity=\"1\" /><path clip-path=\"url(#clip080)\" d=\"M1724.48 14.324 L1724.48 27.2059 L1739.83 27.2059 L1739.83 32.9987 L1724.48 32.9987 L1724.48 57.6282 Q1724.48 63.1779 1725.98 64.7578 Q1727.52 66.3376 1732.17 66.3376 L1739.83 66.3376 L1739.83 72.576 L1732.17 72.576 Q1723.55 72.576 1720.26 69.3758 Q1716.98 66.1351 1716.98 57.6282 L1716.98 32.9987 L1711.51 32.9987 L1711.51 27.2059 L1716.98 27.2059 L1716.98 14.324 L1724.48 14.324 Z\" fill=\"#000000\" fill-rule=\"evenodd\" fill-opacity=\"1\" /><path clip-path=\"url(#clip080)\" d=\"M1749.63 27.2059 L1757.09 27.2059 L1757.09 72.576 L1749.63 72.576 L1749.63 27.2059 M1749.63 9.54393 L1757.09 9.54393 L1757.09 18.9825 L1749.63 18.9825 L1749.63 9.54393 Z\" fill=\"#000000\" fill-rule=\"evenodd\" fill-opacity=\"1\" /><path clip-path=\"url(#clip080)\" d=\"M1790.26 32.4315 Q1784.27 32.4315 1780.79 37.1306 Q1777.3 41.7891 1777.3 49.9314 Q1777.3 58.0738 1780.74 62.7728 Q1784.23 67.4314 1790.26 67.4314 Q1796.22 67.4314 1799.7 62.7323 Q1803.19 58.0333 1803.19 49.9314 Q1803.19 41.8701 1799.7 37.1711 Q1796.22 32.4315 1790.26 32.4315 M1790.26 26.1121 Q1799.99 26.1121 1805.54 32.4315 Q1811.09 38.7509 1811.09 49.9314 Q1811.09 61.0714 1805.54 67.4314 Q1799.99 73.7508 1790.26 73.7508 Q1780.5 73.7508 1774.95 67.4314 Q1769.44 61.0714 1769.44 49.9314 Q1769.44 38.7509 1774.95 32.4315 Q1780.5 26.1121 1790.26 26.1121 Z\" fill=\"#000000\" fill-rule=\"evenodd\" fill-opacity=\"1\" /><path clip-path=\"url(#clip080)\" d=\"M1861.16 45.1919 L1861.16 72.576 L1853.7 72.576 L1853.7 45.4349 Q1853.7 38.994 1851.19 35.7938 Q1848.68 32.5936 1843.66 32.5936 Q1837.62 32.5936 1834.14 36.4419 Q1830.65 40.2903 1830.65 46.9338 L1830.65 72.576 L1823.16 72.576 L1823.16 27.2059 L1830.65 27.2059 L1830.65 34.2544 Q1833.33 30.163 1836.93 28.1376 Q1840.58 26.1121 1845.32 26.1121 Q1853.13 26.1121 1857.14 30.9732 Q1861.16 35.7938 1861.16 45.1919 Z\" fill=\"#000000\" fill-rule=\"evenodd\" fill-opacity=\"1\" /><path clip-path=\"url(#clip080)\" d=\"M1904.95 28.5427 L1904.95 35.5912 Q1901.79 33.9709 1898.38 33.1607 Q1894.98 32.3505 1891.33 32.3505 Q1885.78 32.3505 1882.99 34.0519 Q1880.24 35.7533 1880.24 39.156 Q1880.24 41.7486 1882.22 43.2475 Q1884.2 44.7058 1890.2 46.0426 L1892.75 46.6097 Q1900.69 48.3111 1904.01 51.4303 Q1907.38 54.509 1907.38 60.0587 Q1907.38 66.3781 1902.35 70.0644 Q1897.37 73.7508 1888.62 73.7508 Q1884.97 73.7508 1881 73.0216 Q1877.08 72.3329 1872.7 70.9151 L1872.7 63.2184 Q1876.83 65.3654 1880.84 66.4591 Q1884.85 67.5124 1888.78 67.5124 Q1894.05 67.5124 1896.88 65.73 Q1899.72 63.9071 1899.72 60.6258 Q1899.72 57.5877 1897.65 55.9673 Q1895.63 54.3469 1888.7 52.8481 L1886.11 52.2405 Q1879.18 50.7821 1876.1 47.7845 Q1873.02 44.7463 1873.02 39.4801 Q1873.02 33.0797 1877.56 29.5959 Q1882.1 26.1121 1890.44 26.1121 Q1894.58 26.1121 1898.22 26.7198 Q1901.87 27.3274 1904.95 28.5427 Z\" fill=\"#000000\" fill-rule=\"evenodd\" fill-opacity=\"1\" /><polyline clip-path=\"url(#clip082)\" style=\"stroke:#009af9; stroke-linecap:butt; stroke-linejoin:round; stroke-width:4; stroke-opacity:1; fill:none\" points=\"\n  299.008,1097.34 498.401,805.002 697.794,1113.08 897.187,827.891 1096.58,1000.05 1295.97,619.255 1495.37,1177.68 1694.76,1447.87 1894.15,1295.27 2093.55,1133.12 \n  2292.94,162.047 \n  \"/>\n<path clip-path=\"url(#clip080)\" d=\"\nM1489.13 1441.02 L2282.3 1441.02 L2282.3 1337.34 L1489.13 1337.34  Z\n  \" fill=\"#ffffff\" fill-rule=\"evenodd\" fill-opacity=\"1\"/>\n<polyline clip-path=\"url(#clip080)\" style=\"stroke:#000000; stroke-linecap:butt; stroke-linejoin:round; stroke-width:4; stroke-opacity:1; fill:none\" points=\"\n  1489.13,1441.02 2282.3,1441.02 2282.3,1337.34 1489.13,1337.34 1489.13,1441.02 \n  \"/>\n<polyline clip-path=\"url(#clip080)\" style=\"stroke:#009af9; stroke-linecap:butt; stroke-linejoin:round; stroke-width:4; stroke-opacity:1; fill:none\" points=\"\n  1512.62,1389.18 1653.52,1389.18 \n  \"/>\n<path clip-path=\"url(#clip080)\" d=\"M1677.01 1370.44 L1681.26 1370.44 L1681.26 1406.46 L1677.01 1406.46 L1677.01 1370.44 Z\" fill=\"#000000\" fill-rule=\"evenodd\" fill-opacity=\"1\" /><path clip-path=\"url(#clip080)\" d=\"M1700.22 1383.52 Q1696.8 1383.52 1694.81 1386.2 Q1692.82 1388.86 1692.82 1393.52 Q1692.82 1398.17 1694.78 1400.85 Q1696.77 1403.52 1700.22 1403.52 Q1703.63 1403.52 1705.62 1400.83 Q1707.61 1398.15 1707.61 1393.52 Q1707.61 1388.91 1705.62 1386.22 Q1703.63 1383.52 1700.22 1383.52 M1700.22 1379.9 Q1705.78 1379.9 1708.95 1383.52 Q1712.12 1387.13 1712.12 1393.52 Q1712.12 1399.88 1708.95 1403.52 Q1705.78 1407.13 1700.22 1407.13 Q1694.64 1407.13 1691.47 1403.52 Q1688.32 1399.88 1688.32 1393.52 Q1688.32 1387.13 1691.47 1383.52 Q1694.64 1379.9 1700.22 1379.9 Z\" fill=\"#000000\" fill-rule=\"evenodd\" fill-opacity=\"1\" /><path clip-path=\"url(#clip080)\" d=\"M1736.24 1393.19 Q1736.24 1388.56 1734.32 1386.02 Q1732.42 1383.47 1728.97 1383.47 Q1725.55 1383.47 1723.63 1386.02 Q1721.73 1388.56 1721.73 1393.19 Q1721.73 1397.8 1723.63 1400.34 Q1725.55 1402.89 1728.97 1402.89 Q1732.42 1402.89 1734.32 1400.34 Q1736.24 1397.8 1736.24 1393.19 M1740.5 1403.24 Q1740.5 1409.86 1737.56 1413.08 Q1734.62 1416.32 1728.56 1416.32 Q1726.31 1416.32 1724.32 1415.97 Q1722.33 1415.65 1720.45 1414.95 L1720.45 1410.81 Q1722.33 1411.83 1724.16 1412.31 Q1725.99 1412.8 1727.88 1412.8 Q1732.07 1412.8 1734.16 1410.6 Q1736.24 1408.42 1736.24 1404 L1736.24 1401.9 Q1734.92 1404.19 1732.86 1405.32 Q1730.8 1406.46 1727.93 1406.46 Q1723.16 1406.46 1720.25 1402.82 Q1717.33 1399.19 1717.33 1393.19 Q1717.33 1387.17 1720.25 1383.54 Q1723.16 1379.9 1727.93 1379.9 Q1730.8 1379.9 1732.86 1381.04 Q1734.92 1382.17 1736.24 1384.46 L1736.24 1380.53 L1740.5 1380.53 L1740.5 1403.24 Z\" fill=\"#000000\" fill-rule=\"evenodd\" fill-opacity=\"1\" /><path clip-path=\"url(#clip080)\" d=\"M1747.12 1391.57 L1759.6 1391.57 L1759.6 1395.37 L1747.12 1395.37 L1747.12 1391.57 Z\" fill=\"#000000\" fill-rule=\"evenodd\" fill-opacity=\"1\" /><path clip-path=\"url(#clip080)\" d=\"M1766.38 1380.53 L1770.64 1380.53 L1770.64 1406.92 Q1770.64 1411.87 1768.74 1414.09 Q1766.87 1416.32 1762.68 1416.32 L1761.06 1416.32 L1761.06 1412.71 L1762.19 1412.71 Q1764.62 1412.71 1765.5 1411.57 Q1766.38 1410.46 1766.38 1406.92 L1766.38 1380.53 M1766.38 1370.44 L1770.64 1370.44 L1770.64 1375.83 L1766.38 1375.83 L1766.38 1370.44 Z\" fill=\"#000000\" fill-rule=\"evenodd\" fill-opacity=\"1\" /><path clip-path=\"url(#clip080)\" d=\"M1789.6 1383.52 Q1786.17 1383.52 1784.18 1386.2 Q1782.19 1388.86 1782.19 1393.52 Q1782.19 1398.17 1784.16 1400.85 Q1786.15 1403.52 1789.6 1403.52 Q1793 1403.52 1794.99 1400.83 Q1796.98 1398.15 1796.98 1393.52 Q1796.98 1388.91 1794.99 1386.22 Q1793 1383.52 1789.6 1383.52 M1789.6 1379.9 Q1795.15 1379.9 1798.32 1383.52 Q1801.5 1387.13 1801.5 1393.52 Q1801.5 1399.88 1798.32 1403.52 Q1795.15 1407.13 1789.6 1407.13 Q1784.02 1407.13 1780.85 1403.52 Q1777.7 1399.88 1777.7 1393.52 Q1777.7 1387.13 1780.85 1383.52 Q1784.02 1379.9 1789.6 1379.9 Z\" fill=\"#000000\" fill-rule=\"evenodd\" fill-opacity=\"1\" /><path clip-path=\"url(#clip080)\" d=\"M1808.56 1380.53 L1812.81 1380.53 L1812.81 1406.46 L1808.56 1406.46 L1808.56 1380.53 M1808.56 1370.44 L1812.81 1370.44 L1812.81 1375.83 L1808.56 1375.83 L1808.56 1370.44 Z\" fill=\"#000000\" fill-rule=\"evenodd\" fill-opacity=\"1\" /><path clip-path=\"url(#clip080)\" d=\"M1843.28 1390.81 L1843.28 1406.46 L1839.02 1406.46 L1839.02 1390.95 Q1839.02 1387.27 1837.58 1385.44 Q1836.15 1383.61 1833.28 1383.61 Q1829.83 1383.61 1827.84 1385.81 Q1825.85 1388.01 1825.85 1391.8 L1825.85 1406.46 L1821.56 1406.46 L1821.56 1380.53 L1825.85 1380.53 L1825.85 1384.56 Q1827.37 1382.22 1829.43 1381.06 Q1831.52 1379.9 1834.23 1379.9 Q1838.69 1379.9 1840.99 1382.68 Q1843.28 1385.44 1843.28 1390.81 Z\" fill=\"#000000\" fill-rule=\"evenodd\" fill-opacity=\"1\" /><path clip-path=\"url(#clip080)\" d=\"M1855.99 1373.17 L1855.99 1380.53 L1864.76 1380.53 L1864.76 1383.84 L1855.99 1383.84 L1855.99 1397.91 Q1855.99 1401.09 1856.84 1401.99 Q1857.72 1402.89 1860.38 1402.89 L1864.76 1402.89 L1864.76 1406.46 L1860.38 1406.46 Q1855.45 1406.46 1853.58 1404.63 Q1851.7 1402.77 1851.7 1397.91 L1851.7 1383.84 L1848.58 1383.84 L1848.58 1380.53 L1851.7 1380.53 L1851.7 1373.17 L1855.99 1373.17 Z\" fill=\"#000000\" fill-rule=\"evenodd\" fill-opacity=\"1\" /><path clip-path=\"url(#clip080)\" d=\"M1895.66 1370.48 Q1892.56 1375.81 1891.06 1381.02 Q1889.55 1386.22 1889.55 1391.57 Q1889.55 1396.92 1891.06 1402.17 Q1892.58 1407.4 1895.66 1412.71 L1891.96 1412.71 Q1888.49 1407.27 1886.75 1402.01 Q1885.04 1396.76 1885.04 1391.57 Q1885.04 1386.41 1886.75 1381.18 Q1888.46 1375.95 1891.96 1370.48 L1895.66 1370.48 Z\" fill=\"#000000\" fill-rule=\"evenodd\" fill-opacity=\"1\" /><path clip-path=\"url(#clip080)\" d=\"M1904.11 1371.9 L1925.96 1371.9 L1925.96 1375.83 L1908.79 1375.83 L1908.79 1386.06 L1925.24 1386.06 L1925.24 1390 L1908.79 1390 L1908.79 1402.52 L1926.38 1402.52 L1926.38 1406.46 L1904.11 1406.46 L1904.11 1371.9 Z\" fill=\"#000000\" fill-rule=\"evenodd\" fill-opacity=\"1\" /><path clip-path=\"url(#clip080)\" d=\"M1934.06 1371.9 L1941.03 1371.9 L1949.85 1395.41 L1958.72 1371.9 L1965.68 1371.9 L1965.68 1406.46 L1961.12 1406.46 L1961.12 1376.11 L1952.21 1399.81 L1947.51 1399.81 L1938.6 1376.11 L1938.6 1406.46 L1934.06 1406.46 L1934.06 1371.9 Z\" fill=\"#000000\" fill-rule=\"evenodd\" fill-opacity=\"1\" /><path clip-path=\"url(#clip080)\" d=\"M1975.87 1381.94 L1980.75 1381.94 L1980.75 1387.82 L1975.87 1387.82 L1975.87 1381.94 M1975.87 1400.58 L1980.75 1400.58 L1980.75 1404.56 L1976.96 1411.96 L1973.97 1411.96 L1975.87 1404.56 L1975.87 1400.58 Z\" fill=\"#000000\" fill-rule=\"evenodd\" fill-opacity=\"1\" /><path clip-path=\"url(#clip080)\" d=\"M2028 1392.43 L2028 1394.51 L2008.42 1394.51 Q2008.69 1398.91 2011.05 1401.22 Q2013.44 1403.52 2017.67 1403.52 Q2020.13 1403.52 2022.42 1402.91 Q2024.73 1402.31 2027 1401.11 L2027 1405.14 Q2024.71 1406.11 2022.3 1406.62 Q2019.9 1407.13 2017.42 1407.13 Q2011.22 1407.13 2007.58 1403.52 Q2003.97 1399.9 2003.97 1393.75 Q2003.97 1387.38 2007.4 1383.65 Q2010.85 1379.9 2016.68 1379.9 Q2021.91 1379.9 2024.94 1383.28 Q2028 1386.64 2028 1392.43 M2023.74 1391.18 Q2023.69 1387.68 2021.77 1385.6 Q2019.87 1383.52 2016.73 1383.52 Q2013.16 1383.52 2011.01 1385.53 Q2008.88 1387.54 2008.55 1391.2 L2023.74 1391.18 Z\" fill=\"#000000\" fill-rule=\"evenodd\" fill-opacity=\"1\" /><path clip-path=\"url(#clip080)\" d=\"M2055.71 1380.53 L2046.33 1393.15 L2056.19 1406.46 L2051.17 1406.46 L2043.62 1396.27 L2036.08 1406.46 L2031.05 1406.46 L2041.12 1392.89 L2031.91 1380.53 L2036.93 1380.53 L2043.81 1389.77 L2050.68 1380.53 L2055.71 1380.53 Z\" fill=\"#000000\" fill-rule=\"evenodd\" fill-opacity=\"1\" /><path clip-path=\"url(#clip080)\" d=\"M2066.33 1402.57 L2066.33 1416.32 L2062.05 1416.32 L2062.05 1380.53 L2066.33 1380.53 L2066.33 1384.46 Q2067.67 1382.15 2069.71 1381.04 Q2071.77 1379.9 2074.62 1379.9 Q2079.34 1379.9 2082.28 1383.65 Q2085.24 1387.4 2085.24 1393.52 Q2085.24 1399.63 2082.28 1403.38 Q2079.34 1407.13 2074.62 1407.13 Q2071.77 1407.13 2069.71 1406.02 Q2067.67 1404.88 2066.33 1402.57 M2080.82 1393.52 Q2080.82 1388.82 2078.88 1386.15 Q2076.96 1383.47 2073.58 1383.47 Q2070.2 1383.47 2068.25 1386.15 Q2066.33 1388.82 2066.33 1393.52 Q2066.33 1398.21 2068.25 1400.9 Q2070.2 1403.56 2073.58 1403.56 Q2076.96 1403.56 2078.88 1400.9 Q2080.82 1398.21 2080.82 1393.52 Z\" fill=\"#000000\" fill-rule=\"evenodd\" fill-opacity=\"1\" /><path clip-path=\"url(#clip080)\" d=\"M2114.48 1392.43 L2114.48 1394.51 L2094.9 1394.51 Q2095.17 1398.91 2097.54 1401.22 Q2099.92 1403.52 2104.16 1403.52 Q2106.61 1403.52 2108.9 1402.91 Q2111.22 1402.31 2113.48 1401.11 L2113.48 1405.14 Q2111.19 1406.11 2108.79 1406.62 Q2106.38 1407.13 2103.9 1407.13 Q2097.7 1407.13 2094.06 1403.52 Q2090.45 1399.9 2090.45 1393.75 Q2090.45 1387.38 2093.88 1383.65 Q2097.33 1379.9 2103.16 1379.9 Q2108.39 1379.9 2111.42 1383.28 Q2114.48 1386.64 2114.48 1392.43 M2110.22 1391.18 Q2110.17 1387.68 2108.25 1385.6 Q2106.35 1383.52 2103.21 1383.52 Q2099.64 1383.52 2097.49 1385.53 Q2095.36 1387.54 2095.04 1391.2 L2110.22 1391.18 Z\" fill=\"#000000\" fill-rule=\"evenodd\" fill-opacity=\"1\" /><path clip-path=\"url(#clip080)\" d=\"M2140.13 1381.52 L2140.13 1385.51 Q2138.32 1384.51 2136.49 1384.02 Q2134.69 1383.52 2132.84 1383.52 Q2128.69 1383.52 2126.4 1386.15 Q2124.11 1388.77 2124.11 1393.52 Q2124.11 1398.26 2126.4 1400.9 Q2128.69 1403.52 2132.84 1403.52 Q2134.69 1403.52 2136.49 1403.03 Q2138.32 1402.52 2140.13 1401.52 L2140.13 1405.46 Q2138.35 1406.29 2136.42 1406.71 Q2134.53 1407.13 2132.37 1407.13 Q2126.52 1407.13 2123.07 1403.45 Q2119.62 1399.77 2119.62 1393.52 Q2119.62 1387.17 2123.09 1383.54 Q2126.59 1379.9 2132.65 1379.9 Q2134.62 1379.9 2136.49 1380.32 Q2138.37 1380.71 2140.13 1381.52 Z\" fill=\"#000000\" fill-rule=\"evenodd\" fill-opacity=\"1\" /><path clip-path=\"url(#clip080)\" d=\"M2151.75 1373.17 L2151.75 1380.53 L2160.52 1380.53 L2160.52 1383.84 L2151.75 1383.84 L2151.75 1397.91 Q2151.75 1401.09 2152.6 1401.99 Q2153.48 1402.89 2156.15 1402.89 L2160.52 1402.89 L2160.52 1406.46 L2156.15 1406.46 Q2151.22 1406.46 2149.34 1404.63 Q2147.47 1402.77 2147.47 1397.91 L2147.47 1383.84 L2144.34 1383.84 L2144.34 1380.53 L2147.47 1380.53 L2147.47 1373.17 L2151.75 1373.17 Z\" fill=\"#000000\" fill-rule=\"evenodd\" fill-opacity=\"1\" /><path clip-path=\"url(#clip080)\" d=\"M2188.3 1392.43 L2188.3 1394.51 L2168.72 1394.51 Q2168.99 1398.91 2171.35 1401.22 Q2173.74 1403.52 2177.97 1403.52 Q2180.43 1403.52 2182.72 1402.91 Q2185.03 1402.31 2187.3 1401.11 L2187.3 1405.14 Q2185.01 1406.11 2182.6 1406.62 Q2180.2 1407.13 2177.72 1407.13 Q2171.52 1407.13 2167.88 1403.52 Q2164.27 1399.9 2164.27 1393.75 Q2164.27 1387.38 2167.7 1383.65 Q2171.15 1379.9 2176.98 1379.9 Q2182.21 1379.9 2185.24 1383.28 Q2188.3 1386.64 2188.3 1392.43 M2184.04 1391.18 Q2183.99 1387.68 2182.07 1385.6 Q2180.17 1383.52 2177.03 1383.52 Q2173.46 1383.52 2171.31 1385.53 Q2169.18 1387.54 2168.85 1391.2 L2184.04 1391.18 Z\" fill=\"#000000\" fill-rule=\"evenodd\" fill-opacity=\"1\" /><path clip-path=\"url(#clip080)\" d=\"M2212.35 1384.46 L2212.35 1370.44 L2216.61 1370.44 L2216.61 1406.46 L2212.35 1406.46 L2212.35 1402.57 Q2211.01 1404.88 2208.95 1406.02 Q2206.91 1407.13 2204.04 1407.13 Q2199.34 1407.13 2196.38 1403.38 Q2193.44 1399.63 2193.44 1393.52 Q2193.44 1387.4 2196.38 1383.65 Q2199.34 1379.9 2204.04 1379.9 Q2206.91 1379.9 2208.95 1381.04 Q2211.01 1382.15 2212.35 1384.46 M2197.84 1393.52 Q2197.84 1398.21 2199.76 1400.9 Q2201.7 1403.56 2205.08 1403.56 Q2208.46 1403.56 2210.41 1400.9 Q2212.35 1398.21 2212.35 1393.52 Q2212.35 1388.82 2210.41 1386.15 Q2208.46 1383.47 2205.08 1383.47 Q2201.7 1383.47 2199.76 1386.15 Q2197.84 1388.82 2197.84 1393.52 Z\" fill=\"#000000\" fill-rule=\"evenodd\" fill-opacity=\"1\" /><path clip-path=\"url(#clip080)\" d=\"M2224.71 1370.48 L2228.41 1370.48 Q2231.89 1375.95 2233.6 1381.18 Q2235.34 1386.41 2235.34 1391.57 Q2235.34 1396.76 2233.6 1402.01 Q2231.89 1407.27 2228.41 1412.71 L2224.71 1412.71 Q2227.79 1407.4 2229.29 1402.17 Q2230.82 1396.92 2230.82 1391.57 Q2230.82 1386.22 2229.29 1381.02 Q2227.79 1375.81 2224.71 1370.48 Z\" fill=\"#000000\" fill-rule=\"evenodd\" fill-opacity=\"1\" /></svg>\n"
     },
     "execution_count": 20,
     "metadata": {},
     "output_type": "execute_result"
    }
   ],
   "source": [
    "using StatsPlots\n",
    "\n",
    "plot(map(opt -> -opt.minimum, trace.opt);\n",
    "     label=\"log-joint (EM; expected)\",\n",
    "     legend=:bottomright,\n",
    "     title=\"Log-joint across the iterations\")"
   ]
  },
  {
   "cell_type": "code",
   "execution_count": 18,
   "metadata": {},
   "outputs": [],
   "source": [
    "Ys = [2, 1, 1, 1, 2, 2, 1, 1, 1, 1, 2, 1, 1, 2, 2, 1, 2, 1, 1, 1, 1, 1, 2, 2, 1, 1, 2, 2, 1, 2, 1, 1, 2, 1, 2, 1, 1, 1, 1, 2, 2, 1, 1, 1, 2, 1, 1, 2, 2, 1, 1, 1, 1, 1, 1, 1, 1, 1, 1, 1, 1, 1, 2, 2, 1, 2, 1, 1, 2, 1, 2, 1, 1, 2, 1, 2, 2, 1, 1, 2, 2, 2, 1, 1, 1, 1, 1, 1, 1, 2, 1, 2, 1, 1, 2, 1, 1, 2, 2, 2, 1, 1, 2, 2, 1, 1, 1, 1, 1, 1, 1, 1, 1, 1, 1, 1, 1, 1, 1, 1, 1, 2, 1, 2, 1, 2, 1, 1, 1, 1, 1, 2, 2, 2, 1, 1, 2, 1, 2, 1, 1, 2, 2, 1, 1, 1, 1, 1, 2, 2, 2, 2, 1, 1, 1, 1, 1, 2, 1, 1, 1, 2, 1, 1, 1, 2, 2, 1, 1, 1, 2, 1, 2, 2, 1, 1, 2, 1, 1, 2, 1, 2, 2, 1, 1, 2, 1, 1, 1, 1, 1, 1, 2, 1, 2, 2, 2, 2, 2, 1, 1, 1, 1, 1, 1, 1, 1, 2, 1, 2, 2, 1, 1, 1, 1, 1, 1, 2, 2, 2, 1, 2, 1, 2, 2, 1, 1, 1, 1, 1, 1, 2, 2, 1, 1, 1, 1, 1, 1, 1, 1, 2, 1, 1, 2, 1, 1, 2, 1, 2, 2, 1, 1, 1, 2, 1, 1, 2, 1, 1, 1, 2, 1, 1, 2, 1, 2, 1, 1, 1, 2, 1, 1, 2, 1, 2, 1, 1, 2, 2, 1, 1, 1, 2, 1, 2, 1, 1, 1, 2, 1, 2, 1, 2, 2, 1, 1, 2, 1, 2, 2, 2, 2, 2, 1, 1, 2, 1, 1, 2, 2, 1, 1, 1, 1, 2, 1, 1, 1, 1, 2, 1, 1, 1, 1, 2, 1, 2, 1, 2, 1, 1, 2, 1, 1, 1, 1, 1, 1, 2, 1, 1, 2, 2, 2, 1, 1, 2, 2, 1, 2, 1, 2, 1, 1, 1, 1, 1, 1, 1, 2, 2, 1, 1, 1, 2, 2, 2, 1, 1, 1, 1, 2, 1, 2, 2, 1, 2, 1, 1, 2, 1, 2, 1, 1, 2, 1, 1, 1, 2, 1, 1, 2, 2, 1, 1, 2, 2, 1, 1, 1, 2, 1, 2, 2, 1, 1, 1, 1, 1, 1, 1, 2, 1, 2, 2, 2, 2, 1, 2, 1, 2, 1, 2, 1, 1, 2, 1, 1, 1, 1, 1, 1, 1, 2, 1, 2, 2, 1, 1, 1, 2, 1, 1, 2, 1, 2, 1, 1, 1, 2, 2, 1, 2, 1, 1, 1, 1, 2, 1, 2, 2, 1, 1, 2, 1, 2, 1, 2, 1, 1, 2, 2, 1, 1, 2, 1, 1, 1, 2, 2, 1, 2, 1, 1, 1, 2, 1, 2, 1, 1, 1, 1, 2, 1, 2, 1, 1, 1, 1, 1, 2, 2, 2, 1, 1, 2, 1, 1, 1, 1, 1, 1, 1, 1, 1, 1, 1, 2, 1, 2, 1, 1, 1, 2, 2, 2, 2, 2, 1, 2, 2, 1, 1, 1, 1, 2, 2, 1, 1, 1, 1, 1, 2, 1, 1, 1, 1, 1, 1, 1, 1, 1, 1, 1, 1, 1, 1, 1, 1, 1, 1, 1, 1, 1, 1, 2, 2, 2, 2, 1, 1, 1, 2, 2, 1, 1, 1, 1, 1, 2, 2, 1, 1, 1, 1, 1, 1, 1, 1, 1, 2, 2, 1, 1, 2, 1, 1, 1, 2, 2, 1, 1, 1, 1, 2, 1, 1, 1, 1, 2, 2, 1, 1, 1, 1, 1, 1, 1, 1, 1, 1, 2, 1, 2, 1, 2, 1, 2, 1, 1, 1, 1, 1, 1, 1, 1, 1, 1, 2, 1, 2, 1, 1, 1, 1, 1, 1, 2, 2, 2, 2, 1, 1, 2, 1, 1, 1, 1, 1, 1, 2, 2, 2, 1, 2, 1, 1, 2, 1, 2, 1, 1, 2, 1, 1, 1, 1, 2, 1, 1, 1, 1, 1, 2, 2, 2, 1, 1, 1, 1, 2, 1, 1, 1, 2, 1, 1, 1, 1, 1, 1, 1, 2, 1, 1, 1, 1, 2, 1, 1, 1, 1, 1, 2, 2, 2, 1, 2, 2, 1, 1, 1, 1, 2, 2, 1, 1, 1, 1, 1, 1, 1, 1, 1, 2, 1, 2, 1, 2, 1, 2, 1, 1, 1, 1, 2, 1, 2, 2, 2, 1, 1, 1, 1, 1, 2, 2, 1, 2, 1, 1, 1, 2, 1, 1, 2, 2, 1, 1, 2, 2, 1, 1, 1, 1, 2, 2, 1, 1, 2, 1, 2, 1, 1, 2, 2, 1, 1, 1, 1, 1, 2, 1, 1, 1, 1, 1, 2, 1]\n",
    "S = [23 17; 267 153; 13 7; 182 98; 13 7; 469 231; 68 32; 348 192; 532 268; 508 252; 52 28; 53 27; 12 8; 26 14; 84 56; 121 59; 12 8; 28 12; 16 4; 16 4; 40 20; 49 11; 11 9; 35 25; 11 9; 11 9; 11 9; 11 9; 12 8; 12 8; 25 15; 13 7; 37 23; 13 7; 17 3; 17 3; 30 10; 17 3; 17 3; 13 7; 30 10; 39 21; 13 7; 12 8; 42 18; 12 8; 60 20; 12 8; 12 8; 12 8; 26 14; 14 6; 14 6; 25 15; 11 9; 60 20; 11 9; 11 9; 11 9; 11 9; 11 9; 11 9; 11 9; 11 9; 11 9; 14 6; 14 6; 38 22; 14 6; 14 6; 14 6; 13 7; 13 7; 13 7; 13 7; 14 6; 14 6; 14 6; 14 6; 14 6; 9 11; 9 11; 20 20; 9 11; 15 5; 28 12; 15 5; 15 5; 12 8; 12 8; 12 8; 13 7; 13 7; 13 7; 12 8; 12 8; 12 8; 12 8; 11 9; 35 25; 37 23; 13 7; 13 7; 13 7; 13 7; 13 7; 28 12; 14 6; 14 6; 14 6; 14 6; 14 6; 12 8; 12 8; 12 8; 12 8; 12 8; 12 8; 23 17; 12 8; 17 3; 34 6; 17 3; 46 14; 29 11; 12 8; 12 8; 27 13; 17 3; 17 3; 17 3; 17 3; 10 10; 10 10; 20 0; 20 0; 20 0; 20 0; 14 6; 14 6; 14 6; 17 3; 17 3; 17 3; 27 13; 15 5; 15 5; 15 5; 15 5; 12 8; 12 8; 12 8; 15 5; 15 5; 15 5; 15 5; 15 5; 11 9; 11 9; 15 5; 15 5; 27 13; 12 8; 12 8]\n",
    "T = [15 11; 125 78; 6 4; 84 47; 6 4; 289 145; 39 16; 258 150; 430 223; 389 195; 24 15; 13 9; 2 2; 11 6; 35 27; 69 44; 7 3; 23 11; 14 4; 7 3; 17 14; 23 7; 4 3; 16 9; 5 3; 5 3; 6 4; 6 3; 7 2; 6 2; 11 7; 7 5; 16 14; 5 4; 7 1; 5 1; 10 3; 7 0; 12 1; 6 5; 9 6; 10 9; 8 5; 9 6; 23 10; 7 5; 24 5; 5 5; 10 8; 5 2; 10 6; 9 5; 9 4; 12 9; 5 6; 35 14; 4 5; 5 5; 5 6; 5 6; 3 5; 3 3; 2 3; 4 5; 1 1; 7 4; 6 4; 18 9; 10 3; 5 3; 7 4; 10 3; 9 3; 5 4; 7 3; 6 2; 8 5; 6 5; 10 4; 9 6; 6 7; 1 4; 12 11; 5 8; 5 1; 14 7; 9 2; 15 5; 8 5; 7 4; 8 6; 5 3; 6 4; 5 4; 5 3; 4 4; 5 3; 4 4; 7 6; 14 12; 14 9; 3 4; 0 2; 2 3; 2 3; 4 3; 6 3; 5 2; 3 3; 2 0; 2 0; 3 2; 4 4; 6 5; 6 5; 6 5; 6 4; 4 5; 8 8; 4 5; 12 2; 21 4; 9 1; 28 8; 16 4; 4 5; 3 5; 16 7; 6 1; 5 1; 3 1; 3 1; 7 5; 6 2; 9 0; 11 0; 8 0; 9 0; 6 5; 6 2; 7 3; 9 0; 7 1; 9 1; 14 5; 8 3; 11 3; 8 4; 10 1; 5 2; 2 1; 7 4; 11 2; 9 2; 8 2; 13 4; 9 2; 5 2; 5 3; 7 1; 8 0; 15 6; 7 4; 6 4;;; 8 6; 142 75; 7 3; 98 51; 7 3; 180 86; 29 16; 90 42; 102 45; 119 57; 28 13; 40 18; 10 6; 15 8; 49 29; 52 15; 5 5; 5 1; 2 0; 9 1; 23 6; 26 4; 7 6; 19 16; 6 6; 6 6; 5 5; 5 6; 5 6; 6 6; 14 8; 6 2; 21 9; 8 3; 10 2; 12 2; 20 7; 10 3; 5 2; 7 2; 21 4; 29 12; 5 2; 3 2; 19 8; 5 3; 36 15; 7 3; 2 0; 7 6; 16 8; 5 1; 5 2; 13 6; 6 3; 25 6; 7 4; 6 4; 6 3; 6 3; 8 4; 8 6; 9 6; 7 4; 10 8; 7 2; 8 2; 20 13; 4 3; 9 3; 7 2; 3 4; 4 4; 8 3; 6 4; 8 4; 6 1; 8 1; 4 2; 5 0; 3 4; 8 7; 8 9; 4 3; 10 4; 14 5; 6 3; 0 0; 4 3; 5 4; 4 2; 8 4; 7 3; 8 3; 7 5; 8 4; 7 5; 8 4; 4 3; 21 13; 23 14; 10 3; 13 5; 11 4; 11 4; 9 4; 22 9; 9 4; 11 3; 12 6; 12 6; 11 4; 8 4; 6 3; 6 3; 6 3; 6 4; 8 3; 15 9; 8 3; 5 1; 13 2; 8 2; 18 6; 13 7; 8 3; 9 3; 11 6; 11 2; 12 2; 14 2; 14 2; 3 5; 4 8; 11 0; 9 0; 12 0; 11 0; 8 1; 8 4; 7 3; 8 3; 10 2; 8 2; 13 8; 7 2; 4 2; 7 1; 5 4; 7 6; 10 7; 5 4; 4 3; 6 3; 7 3; 2 1; 6 3; 6 7; 6 6; 8 4; 7 5; 12 7; 5 4; 6 4]\n",
    "error_rates = [0.6521739130434783 0.6470588235294118; 0.4681647940074906 0.5098039215686274; 0.46153846153846156 0.5714285714285714; 0.46153846153846156 0.47959183673469385; 0.46153846153846156 0.5714285714285714; 0.6162046908315565 0.6277056277056277; 0.5735294117647058 0.5; 0.7413793103448276 0.78125; 0.8082706766917294 0.832089552238806; 0.765748031496063 0.7738095238095238; 0.46153846153846156 0.5357142857142857; 0.24528301886792453 0.3333333333333333; 0.16666666666666666 0.25; 0.4230769230769231 0.42857142857142855; 0.4166666666666667 0.48214285714285715; 0.5702479338842975 0.7457627118644068; 0.5833333333333334 0.375; 0.8214285714285714 0.9166666666666666; 0.875 1.0; 0.4375 0.75; 0.425 0.7; 0.46938775510204084 0.6363636363636364; 0.36363636363636365 0.3333333333333333; 0.45714285714285713 0.36; 0.45454545454545453 0.3333333333333333; 0.45454545454545453 0.3333333333333333; 0.5454545454545454 0.4444444444444444; 0.5454545454545454 0.3333333333333333; 0.5833333333333334 0.25; 0.5 0.25; 0.44 0.4666666666666667; 0.5384615384615384 0.7142857142857143; 0.43243243243243246 0.6086956521739131; 0.38461538461538464 0.5714285714285714; 0.4117647058823529 0.3333333333333333; 0.29411764705882354 0.3333333333333333; 0.3333333333333333 0.3; 0.4117647058823529 0.0; 0.7058823529411765 0.3333333333333333; 0.46153846153846156 0.7142857142857143; 0.3 0.6; 0.2564102564102564 0.42857142857142855; 0.6153846153846154 0.7142857142857143; 0.75 0.75; 0.5476190476190477 0.5555555555555556; 0.5833333333333334 0.625; 0.4 0.25; 0.4166666666666667 0.625; 0.8333333333333334 1.0; 0.4166666666666667 0.25; 0.38461538461538464 0.42857142857142855; 0.6428571428571429 0.8333333333333334; 0.6428571428571429 0.6666666666666666; 0.48 0.6; 0.45454545454545453 0.6666666666666666; 0.5833333333333334 0.7; 0.36363636363636365 0.5555555555555556; 0.45454545454545453 0.5555555555555556; 0.45454545454545453 0.6666666666666666; 0.45454545454545453 0.6666666666666666; 0.2727272727272727 0.5555555555555556; 0.2727272727272727 0.3333333333333333; 0.18181818181818182 0.3333333333333333; 0.36363636363636365 0.5555555555555556; 0.09090909090909091 0.1111111111111111; 0.5 0.6666666666666666; 0.42857142857142855 0.6666666666666666; 0.47368421052631576 0.4090909090909091; 0.7142857142857143 0.5; 0.35714285714285715 0.5; 0.5 0.6666666666666666; 0.7692307692307693 0.42857142857142855; 0.6923076923076923 0.42857142857142855; 0.38461538461538464 0.5714285714285714; 0.5384615384615384 0.42857142857142855; 0.42857142857142855 0.3333333333333333; 0.5714285714285714 0.8333333333333334; 0.42857142857142855 0.8333333333333334; 0.7142857142857143 0.6666666666666666; 0.6428571428571429 1.0; 0.6666666666666666 0.6363636363636364; 0.1111111111111111 0.36363636363636365; 0.6 0.55; 0.5555555555555556 0.7272727272727273; 0.3333333333333333 0.2; 0.5 0.5833333333333334; 0.6 0.4; 1.0 1.0; 0.6666666666666666 0.625; 0.5833333333333334 0.5; 0.6666666666666666 0.75; 0.38461538461538464 0.42857142857142855; 0.46153846153846156 0.5714285714285714; 0.38461538461538464 0.5714285714285714; 0.4166666666666667 0.375; 0.3333333333333333 0.5; 0.4166666666666667 0.375; 0.3333333333333333 0.5; 0.6363636363636364 0.6666666666666666; 0.4 0.48; 0.3783783783783784 0.391304347826087; 0.23076923076923078 0.5714285714285714; 0.0 0.2857142857142857; 0.15384615384615385 0.42857142857142855; 0.15384615384615385 0.42857142857142855; 0.3076923076923077 0.42857142857142855; 0.21428571428571427 0.25; 0.35714285714285715 0.3333333333333333; 0.21428571428571427 0.5; 0.14285714285714285 0.0; 0.14285714285714285 0.0; 0.21428571428571427 0.3333333333333333; 0.3333333333333333 0.5; 0.5 0.625; 0.5 0.625; 0.5 0.625; 0.5 0.5; 0.3333333333333333 0.625; 0.34782608695652173 0.47058823529411764; 0.3333333333333333 0.625; 0.7058823529411765 0.6666666666666666; 0.6176470588235294 0.6666666666666666; 0.5294117647058824 0.3333333333333333; 0.6086956521739131 0.5714285714285714; 0.5517241379310345 0.36363636363636365; 0.3333333333333333 0.625; 0.25 0.625; 0.5925925925925926 0.5384615384615384; 0.35294117647058826 0.3333333333333333; 0.29411764705882354 0.3333333333333333; 0.17647058823529413 0.3333333333333333; 0.17647058823529413 0.3333333333333333; 0.7 0.5; 0.6 0.2; 0.45 NaN; 0.55 NaN; 0.4 NaN; 0.45 NaN; 0.42857142857142855 0.8333333333333334; 0.42857142857142855 0.3333333333333333; 0.5 0.5; 0.5294117647058824 0.0; 0.4117647058823529 0.3333333333333333; 0.5294117647058824 0.3333333333333333; 0.5185185185185185 0.38461538461538464; 0.5333333333333333 0.6; 0.7333333333333333 0.6; 0.5333333333333333 0.8; 0.6666666666666666 0.2; 0.4166666666666667 0.25; 0.16666666666666666 0.125; 0.5833333333333334 0.5; 0.7333333333333333 0.4; 0.6 0.4; 0.5333333333333333 0.4; 0.8666666666666667 0.8; 0.6 0.4; 0.45454545454545453 0.2222222222222222; 0.45454545454545453 0.3333333333333333; 0.4666666666666667 0.2; 0.5333333333333333 0.0; 0.5555555555555556 0.46153846153846156; 0.5833333333333334 0.5; 0.5 0.5;;; 0.34782608695652173 0.35294117647058826; 0.5318352059925093 0.49019607843137253; 0.5384615384615384 0.42857142857142855; 0.5384615384615384 0.5204081632653061; 0.5384615384615384 0.42857142857142855; 0.3837953091684435 0.3722943722943723; 0.4264705882352941 0.5; 0.25862068965517243 0.21875; 0.19172932330827067 0.16791044776119404; 0.234251968503937 0.2261904761904762; 0.5384615384615384 0.4642857142857143; 0.7547169811320755 0.6666666666666666; 0.8333333333333334 0.75; 0.5769230769230769 0.5714285714285714; 0.5833333333333334 0.5178571428571429; 0.4297520661157025 0.2542372881355932; 0.4166666666666667 0.625; 0.17857142857142858 0.08333333333333333; 0.125 0.0; 0.5625 0.25; 0.575 0.3; 0.5306122448979592 0.36363636363636365; 0.6363636363636364 0.6666666666666666; 0.5428571428571428 0.64; 0.5454545454545454 0.6666666666666666; 0.5454545454545454 0.6666666666666666; 0.45454545454545453 0.5555555555555556; 0.45454545454545453 0.6666666666666666; 0.4166666666666667 0.75; 0.5 0.75; 0.56 0.5333333333333333; 0.46153846153846156 0.2857142857142857; 0.5675675675675675 0.391304347826087; 0.6153846153846154 0.42857142857142855; 0.5882352941176471 0.6666666666666666; 0.7058823529411765 0.6666666666666666; 0.6666666666666666 0.7; 0.5882352941176471 1.0; 0.29411764705882354 0.6666666666666666; 0.5384615384615384 0.2857142857142857; 0.7 0.4; 0.7435897435897436 0.5714285714285714; 0.38461538461538464 0.2857142857142857; 0.25 0.25; 0.4523809523809524 0.4444444444444444; 0.4166666666666667 0.375; 0.6 0.75; 0.5833333333333334 0.375; 0.16666666666666666 0.0; 0.5833333333333334 0.75; 0.6153846153846154 0.5714285714285714; 0.35714285714285715 0.16666666666666666; 0.35714285714285715 0.3333333333333333; 0.52 0.4; 0.5454545454545454 0.3333333333333333; 0.4166666666666667 0.3; 0.6363636363636364 0.4444444444444444; 0.5454545454545454 0.4444444444444444; 0.5454545454545454 0.3333333333333333; 0.5454545454545454 0.3333333333333333; 0.7272727272727273 0.4444444444444444; 0.7272727272727273 0.6666666666666666; 0.8181818181818182 0.6666666666666666; 0.6363636363636364 0.4444444444444444; 0.9090909090909091 0.8888888888888888; 0.5 0.3333333333333333; 0.5714285714285714 0.3333333333333333; 0.5263157894736842 0.5909090909090909; 0.2857142857142857 0.5; 0.6428571428571429 0.5; 0.5 0.3333333333333333; 0.23076923076923078 0.5714285714285714; 0.3076923076923077 0.5714285714285714; 0.6153846153846154 0.42857142857142855; 0.46153846153846156 0.5714285714285714; 0.5714285714285714 0.6666666666666666; 0.42857142857142855 0.16666666666666666; 0.5714285714285714 0.16666666666666666; 0.2857142857142857 0.3333333333333333; 0.35714285714285715 0.0; 0.3333333333333333 0.36363636363636365; 0.8888888888888888 0.6363636363636364; 0.4 0.45; 0.4444444444444444 0.2727272727272727; 0.6666666666666666 0.8; 0.5 0.4166666666666667; 0.4 0.6; 0.0 0.0; 0.3333333333333333 0.375; 0.4166666666666667 0.5; 0.3333333333333333 0.25; 0.6153846153846154 0.5714285714285714; 0.5384615384615384 0.42857142857142855; 0.6153846153846154 0.42857142857142855; 0.5833333333333334 0.625; 0.6666666666666666 0.5; 0.5833333333333334 0.625; 0.6666666666666666 0.5; 0.36363636363636365 0.3333333333333333; 0.6 0.52; 0.6216216216216216 0.6086956521739131; 0.7692307692307693 0.42857142857142855; 1.0 0.7142857142857143; 0.8461538461538461 0.5714285714285714; 0.8461538461538461 0.5714285714285714; 0.6923076923076923 0.5714285714285714; 0.7857142857142857 0.75; 0.6428571428571429 0.6666666666666666; 0.7857142857142857 0.5; 0.8571428571428571 1.0; 0.8571428571428571 1.0; 0.7857142857142857 0.6666666666666666; 0.6666666666666666 0.5; 0.5 0.375; 0.5 0.375; 0.5 0.375; 0.5 0.5; 0.6666666666666666 0.375; 0.6521739130434783 0.5294117647058824; 0.6666666666666666 0.375; 0.29411764705882354 0.3333333333333333; 0.38235294117647056 0.3333333333333333; 0.47058823529411764 0.6666666666666666; 0.391304347826087 0.42857142857142855; 0.4482758620689655 0.6363636363636364; 0.6666666666666666 0.375; 0.75 0.375; 0.4074074074074074 0.46153846153846156; 0.6470588235294118 0.6666666666666666; 0.7058823529411765 0.6666666666666666; 0.8235294117647058 0.6666666666666666; 0.8235294117647058 0.6666666666666666; 0.3 0.5; 0.4 0.8; 0.55 NaN; 0.45 NaN; 0.6 NaN; 0.55 NaN; 0.5714285714285714 0.16666666666666666; 0.5714285714285714 0.6666666666666666; 0.5 0.5; 0.47058823529411764 1.0; 0.5882352941176471 0.6666666666666666; 0.47058823529411764 0.6666666666666666; 0.48148148148148145 0.6153846153846154; 0.4666666666666667 0.4; 0.26666666666666666 0.4; 0.4666666666666667 0.2; 0.3333333333333333 0.8; 0.5833333333333334 0.75; 0.8333333333333334 0.875; 0.4166666666666667 0.5; 0.26666666666666666 0.6; 0.4 0.6; 0.4666666666666667 0.6; 0.13333333333333333 0.2; 0.4 0.6; 0.5454545454545454 0.7777777777777778; 0.5454545454545454 0.6666666666666666; 0.5333333333333333 0.8; 0.4666666666666667 1.0; 0.4444444444444444 0.5384615384615384; 0.4166666666666667 0.5; 0.5 0.5]\n",
    ";"
   ]
  },
  {
   "cell_type": "code",
   "execution_count": 29,
   "metadata": {},
   "outputs": [
    {
     "name": "stdout",
     "output_type": "stream",
     "text": [
      "135:2\n",
      "[NaN, NaN]\n",
      "136:2\n",
      "[NaN, NaN]\n",
      "137:2\n",
      "[NaN, NaN]\n",
      "138:2\n",
      "[NaN, NaN]\n"
     ]
    }
   ],
   "source": [
    "for i in 1:A, j in 1:O\n",
    "    x = error_rates[i, j, :]\n",
    "    if hasnans(x)\n",
    "        println(\"$i:$j\\n$x\")\n",
    "    end\n",
    "end"
   ]
  },
  {
   "cell_type": "code",
   "execution_count": 55,
   "metadata": {},
   "outputs": [
    {
     "data": {
      "text/plain": [
       "2-element Vector{Float64}:\n",
       " 0.5\n",
       " 0.5"
      ]
     },
     "execution_count": 55,
     "metadata": {},
     "output_type": "execute_result"
    }
   ],
   "source": [
    "er_[136,2,:]"
   ]
  },
  {
   "cell_type": "code",
   "execution_count": null,
   "metadata": {},
   "outputs": [],
   "source": []
  }
 ],
 "metadata": {
  "kernelspec": {
   "display_name": "Julia 1.7.3",
   "language": "julia",
   "name": "julia-1.7"
  },
  "language_info": {
   "file_extension": ".jl",
   "mimetype": "application/julia",
   "name": "julia",
   "version": "1.7.3"
  },
  "orig_nbformat": 4,
  "vscode": {
   "interpreter": {
    "hash": "916dbcbb3f70747c44a77c7bcd40155683ae19c65e1c03b4aa3499c5328201f1"
   }
  }
 },
 "nbformat": 4,
 "nbformat_minor": 2
}
